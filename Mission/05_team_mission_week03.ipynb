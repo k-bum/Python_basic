{
 "cells": [
  {
   "cell_type": "markdown",
   "id": "fa357587",
   "metadata": {},
   "source": [
    "# Q1. 5X3행렬과 3X2행렬의 행렬곱 연산하기"
   ]
  },
  {
   "cell_type": "code",
   "execution_count": null,
   "id": "368c02f4",
   "metadata": {},
   "outputs": [],
   "source": [
    "import numpy as np\n",
    "\n",
    "arr1 = np.array([[1, 2, 3], [1, 2, 3], [1, 2, 3], [1, 2, 3], [1, 2, 3]], dtype = np.float64)\n",
    "arr2 = np.array([[4, 5], [4, 5], [4, 5]])\n",
    "\n",
    "dot = arr1 @ arr2\n",
    "print(dot, dot.shape)"
   ]
  },
  {
   "cell_type": "markdown",
   "id": "c9363b14",
   "metadata": {},
   "source": [
    "# Q2. 두 numpy array의 concatenate 연산하기"
   ]
  },
  {
   "cell_type": "code",
   "execution_count": null,
   "id": "837d4945",
   "metadata": {},
   "outputs": [],
   "source": [
    "import numpy as np\n",
    "\n",
    "arr1 = np.array([[5, 7], [9, 11]], float)\n",
    "arr2 = np.array([[2, 4], [6, 8]], float)\n",
    "\n",
    "concat_1 = np.concatenate((arr1, arr2), axis = 0)\n",
    "concat_2 = np.concatenate((arr1, arr2), axis = 1)\n",
    "print(concat_1)\n",
    "print(concat_2)"
   ]
  },
  {
   "cell_type": "markdown",
   "id": "6a7c891c",
   "metadata": {},
   "source": [
    "# Q3. 경사하강법을 위한 주어진 데이터 분리하기"
   ]
  },
  {
   "cell_type": "code",
   "execution_count": null,
   "id": "1fdf0c7c",
   "metadata": {},
   "outputs": [],
   "source": [
    "import numpy as np\n",
    "\n",
    "xy = (np.array([[1, 2, 3, 4, 5, 6], [10, 20, 30, 40, 50, 60]], float))\n",
    "\n",
    "x_train = xy[0,]\n",
    "y_train = xy[1,]\n",
    "print(x_train, x_train.shape)\n",
    "print(y_train, y_train.shape)"
   ]
  },
  {
   "cell_type": "markdown",
   "id": "843e6546",
   "metadata": {},
   "source": [
    "# Q4. 경사하강법 구현을 위한 weight와 bias값 정의하기"
   ]
  },
  {
   "cell_type": "code",
   "execution_count": null,
   "id": "60c2661c",
   "metadata": {},
   "outputs": [],
   "source": [
    "beta_gd = np.random.rand(1)\n",
    "bias = np.random.rand(1)\n",
    "\n",
    "print(beta_gd, bias)"
   ]
  },
  {
   "cell_type": "markdown",
   "id": "b7dd21b8",
   "metadata": {},
   "source": [
    "# Q5. linear regression을 경사하강법으로 학습하는 코드 구현하기"
   ]
  },
  {
   "cell_type": "code",
   "execution_count": null,
   "id": "8e777683",
   "metadata": {},
   "outputs": [],
   "source": [
    "import numpy as np\n",
    "\n",
    "xy = (np.array([[1, 2, 3, 4, 5, 6], [3, 6, 9, 12, 15, 18]], float))\n",
    "\n",
    "x_train = xy[0,]\n",
    "y_train = xy[1,]\n",
    "\n",
    "beta_gd = np.random.rand(1)\n",
    "bias = np.random.rand(1)\n",
    "\n",
    "learning_rate = 0.01\n",
    "\n",
    "for i in range(1000) :\n",
    "    pred = x_train * beta_gd + bias\n",
    "    error = ((y_train - pred) ** 2).mean()\n",
    "    \n",
    "    gd_w = ((pred - y_train) * 2 * x_train).mean()\n",
    "    gd_b = ((pred - y_train) * 2).mean()\n",
    "    \n",
    "    beta_gd -= learning_rate * gd_w\n",
    "    bias -= learning_rate * gd_b\n",
    "    \n",
    "    if i % 100 == 0 :\n",
    "        print(\"Epoch ({:10d}/1000) error : {:10f}, beta_gd : {:10f}, bias : {:10f}\".format(i, error, beta_gd.item(), bias.item()))"
   ]
  }
 ],
 "metadata": {
  "kernelspec": {
   "display_name": "Python 3 (ipykernel)",
   "language": "python",
   "name": "python3"
  },
  "language_info": {
   "codemirror_mode": {
    "name": "ipython",
    "version": 3
   },
   "file_extension": ".py",
   "mimetype": "text/x-python",
   "name": "python",
   "nbconvert_exporter": "python",
   "pygments_lexer": "ipython3",
   "version": "3.9.5"
  }
 },
 "nbformat": 4,
 "nbformat_minor": 5
}
