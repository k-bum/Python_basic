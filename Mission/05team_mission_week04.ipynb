{
 "cells": [
  {
   "cell_type": "markdown",
   "id": "77083c2d",
   "metadata": {},
   "source": [
    "# Q1. pandas의 series형태로 만들기"
   ]
  },
  {
   "cell_type": "code",
   "execution_count": 55,
   "id": "fa83e721",
   "metadata": {},
   "outputs": [
    {
     "name": "stdout",
     "output_type": "stream",
     "text": [
      "HDD      19\n",
      "SDD      11\n",
      "USB       5\n",
      "CLOUD    97\n",
      "dtype: int64 \n",
      "\n",
      "HDD    19\n",
      "SDD    11\n",
      "dtype: int64\n"
     ]
    }
   ],
   "source": [
    "import pandas as pd\n",
    "\n",
    "idx = [\"HDD\", \"SDD\", \"USB\", \"CLOUD\"]\n",
    "data = [19, 11, 5, 97]\n",
    "\n",
    "series = pd.Series(data = data, index = idx)\n",
    "print(series, '\\n')\n",
    "\n",
    "series = series[series >= 10]\n",
    "series = series[series <= 20]\n",
    "print(series)"
   ]
  },
  {
   "cell_type": "markdown",
   "id": "517197d7",
   "metadata": {},
   "source": [
    "# Q2. 각각 정리된 데이터를 하나의 데이터프레임으로 생성하기"
   ]
  },
  {
   "cell_type": "code",
   "execution_count": 57,
   "id": "3db3e362",
   "metadata": {},
   "outputs": [
    {
     "name": "stdout",
     "output_type": "stream",
     "text": [
      "     Name       Type  Price\n",
      "0  cherry      Fruit    100\n",
      "1   mango      Fruit    110\n",
      "2  potato  Vegetable     60\n",
      "3   onion  Vegetable     80\n",
      "4  pepper  Vegetable     50\n",
      "5  carrot  Vegetable     70\n",
      "6  banana      Fruit     90\n",
      "7    kiwi      Fruit    120 \n",
      "\n",
      "     Name   Type  Price\n",
      "7    kiwi  Fruit    120\n",
      "1   mango  Fruit    110\n",
      "0  cherry  Fruit    100\n",
      "6  banana  Fruit     90 \n",
      "\n",
      "     Name       Type  Price\n",
      "3   onion  Vegetable     80\n",
      "5  carrot  Vegetable     70\n",
      "2  potato  Vegetable     60\n",
      "4  pepper  Vegetable     50 \n",
      "\n",
      "Sum of Top 2 Fruit Price :  230\n",
      "Sum of Top 2 Vegetable Price :  150\n"
     ]
    }
   ],
   "source": [
    "import pandas as pd\n",
    "data1 = {'Name' : ['cherry', 'mango', 'potato', 'onion'],\n",
    "            'Type' : ['Fruit', 'Fruit', 'Vegetable', 'Vegetable'],\n",
    "            'Price' : [100, 110, 60, 80]}\n",
    "data2 = {'Name' : ['pepper', 'carrot', 'banana', 'kiwi'],\n",
    "            'Type' : ['Vegetable', 'Vegetable', 'Fruit', 'Fruit'],\n",
    "            'Price' : [50, 70, 90, 120]}\n",
    "\n",
    "# 두 데이터를 하나로 결합하기\n",
    "df1 = pd.DataFrame(data1, columns = ['Name', 'Type', 'Price'])\n",
    "df2 = pd.DataFrame(data2, columns = ['Name', 'Type', 'Price'])\n",
    "df3 = pd.concat([df1, df2], ignore_index = True)\n",
    "print(df3, '\\n')\n",
    "\n",
    "# 결합한 데이터의 type을 이용해 데이터 정렬하기\n",
    "df_fruit = df3.loc[df3['Type'] == 'Fruit']\n",
    "df_fruit = df_fruit.sort_values(by = 'Price', ascending = False)\n",
    "print(df_fruit, '\\n')\n",
    "\n",
    "df_veg = df3.loc[df3['Type'] == 'Vegetable']\n",
    "df_veg = df_veg.sort_values(by = 'Price', ascending = False)\n",
    "print(df_veg, '\\n')\n",
    "\n",
    "# 과일과 야채 중 가장 비싼 가격의 합 출력하기\n",
    "print(\"Sum of Top 2 Fruit Price : \", df_fruit['Price'].iloc[:2].sum())\n",
    "print(\"Sum of Top 2 Vegetable Price : \", df_veg['Price'].iloc[:2].sum())"
   ]
  },
  {
   "cell_type": "markdown",
   "id": "65bf11c0",
   "metadata": {},
   "source": [
    "# Q3. 주어진 데이터를 데이터프레임으로 생성하기"
   ]
  },
  {
   "cell_type": "code",
   "execution_count": 58,
   "id": "4265e2e7",
   "metadata": {},
   "outputs": [
    {
     "name": "stdout",
     "output_type": "stream",
     "text": [
      "      round_1  round_2  round_3  round_4  round_5\n",
      "Sue        55       65       60       66       57\n",
      "Ryan       64       77       71       79       67\n",
      "Jay        88       81       79       89       77\n",
      "Jane       45       35       30       46       47\n",
      "Anna       91       96       90       97       99 \n",
      "\n",
      "      round_1  round_2  round_3  round_4  round_5  round_6\n",
      "Sue        55       65       60       66       57       11\n",
      "Ryan       64       77       71       79       67       15\n",
      "Jay        88       81       79       89       77       13\n",
      "Jane       45       35       30       46       47       17\n",
      "Anna       91       96       90       97       99       19 \n",
      "\n",
      "      round_1  round_2  round_3  round_4  round_5  round_6\n",
      "Sue      55.0     65.0     60.0     66.0     57.0     11.0\n",
      "Ryan     64.0     77.0     71.0     79.0     67.0     15.0\n",
      "Jay      88.0     81.0     79.0     89.0     77.0     13.0\n",
      "Jane     45.0     35.0     30.0     46.0     47.0     17.0\n",
      "Anna     91.0     96.0     90.0     97.0     99.0     19.0\n",
      "mean     68.6     70.8     66.0     75.4     69.4     15.0\n",
      "max      91.0     96.0     90.0     97.0     99.0     19.0\n",
      "min      45.0     35.0     30.0     46.0     47.0     11.0\n"
     ]
    }
   ],
   "source": [
    "import pandas as pd\n",
    "\n",
    "idx = ['Sue', 'Ryan', 'Jay', 'Jane', 'Anna']\n",
    "col = ['round_1', 'round_2', 'round_3', 'round_4', 'round_5']\n",
    "data = [[55, 65, 60, 66, 57],\n",
    "       [64, 77, 71, 79, 67],\n",
    "       [88, 81, 79, 89, 77],\n",
    "       [45, 35, 30, 46, 47],\n",
    "       [91, 96, 90, 97, 99]]\n",
    "\n",
    "# 참여자의 이름을 index로 해서 각 라운드의 column을 추가해 데이터 정리하기\n",
    "df = pd.DataFrame(data, index = idx, columns = col)\n",
    "print(df, '\\n')\n",
    "\n",
    "# 6번째 라운드의 점수 추가하기\n",
    "col_round_6 = [11, 15, 13, 17, 19]\n",
    "df['round_6'] = col_round_6\n",
    "print(df, '\\n')\n",
    "\n",
    "# 각 데이터의 mean, max, min 값을 출력하기\n",
    "df2 = pd.DataFrame()\n",
    "df2['mean'] = df.mean(axis = 0)\n",
    "df2['max'] = df.max(axis = 0)\n",
    "df2['min'] = df.min(axis = 0)\n",
    "df = pd.concat([df, df2.T])\n",
    "print(df)"
   ]
  },
  {
   "cell_type": "markdown",
   "id": "531fef31",
   "metadata": {},
   "source": [
    "# Q4. matplotlib을 이용해 그래프 출력하기"
   ]
  },
  {
   "cell_type": "code",
   "execution_count": 59,
   "id": "bf73042d",
   "metadata": {},
   "outputs": [
    {
     "data": {
      "image/png": "[encoded data removed]",
      "text/plain": [
       "<Figure size 432x288 with 1 Axes>"
      ]
     },
     "metadata": {
      "needs_background": "light"
     },
     "output_type": "display_data"
    }
   ],
   "source": [
    "import numpy as np\n",
    "import matplotlib.pyplot as plt\n",
    "\n",
    "t = np.arange(0., 5., 0.2)\n",
    "\n",
    "plt.plot(t, t, 'r--', t, t ** 2, 'gs', t, t ** 3, 'b^')\n",
    "plt.show()"
   ]
  },
  {
   "cell_type": "markdown",
   "id": "3bab9564",
   "metadata": {},
   "source": [
    "# Q5. matplotlib을 이용해 그래프 출력하기"
   ]
  },
  {
   "cell_type": "code",
   "execution_count": 60,
   "id": "4a7d095a",
   "metadata": {},
   "outputs": [
    {
     "data": {
      "image/png": "[encoded data removed]",
      "text/plain": [
       "<Figure size 648x216 with 3 Axes>"
      ]
     },
     "metadata": {
      "needs_background": "light"
     },
     "output_type": "display_data"
    }
   ],
   "source": [
    "import matplotlib.pyplot as plt\n",
    "\n",
    "names = ['group_a', 'group_b', 'group_c']\n",
    "values = [1, 10, 100]\n",
    "\n",
    "fig = plt.figure(figsize = (9, 3))\n",
    "plt_1 = fig.add_subplot(1, 3, 1)\n",
    "plt_2 = fig.add_subplot(1, 3, 2)\n",
    "plt_3 = fig.add_subplot(1, 3, 3)\n",
    "\n",
    "plt_1.bar(names, values)\n",
    "plt_2.scatter(names, values)\n",
    "plt_3.plot(names, values)\n",
    "\n",
    "plt.show()"
   ]
  }
 ],
 "metadata": {
  "kernelspec": {
   "display_name": "Python 3 (ipykernel)",
   "language": "python",
   "name": "python3"
  },
  "language_info": {
   "codemirror_mode": {
    "name": "ipython",
    "version": 3
   },
   "file_extension": ".py",
   "mimetype": "text/x-python",
   "name": "python",
   "nbconvert_exporter": "python",
   "pygments_lexer": "ipython3",
   "version": "3.9.5"
  }
 },
 "nbformat": 4,
 "nbformat_minor": 5
}
