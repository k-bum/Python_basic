{
 "cells": [
  {
   "cell_type": "markdown",
   "id": "3b0385ca",
   "metadata": {},
   "source": [
    "#  Q1. num_list에서 홀수인 데이터만 출력"
   ]
  },
  {
   "cell_type": "code",
   "execution_count": null,
   "id": "e69d62d2",
   "metadata": {},
   "outputs": [],
   "source": [
    "num_list = [1, 5, 7, 15, 16, 22, 28, 29]\n",
    "\n",
    "def get_odd_num(num_list) :\n",
    "    list = []\n",
    "    for i in num_list :\n",
    "        if i % 2 == 1 :\n",
    "            list.append(i)\n",
    "    return list\n",
    "    \n",
    "print(get_odd_num(num_list))"
   ]
  },
  {
   "cell_type": "code",
   "execution_count": null,
   "id": "22b3c556",
   "metadata": {},
   "outputs": [],
   "source": [
    "num_list = [1, 5, 7, 15, 16, 22, 28, 29]\n",
    "\n",
    "def get_odd_num(num_list) :\n",
    "    return [i for i in num_list if i % 2 == 0]\n",
    "\n",
    "print(get_odd_num(num_list))"
   ]
  },
  {
   "cell_type": "markdown",
   "id": "c93a49a8",
   "metadata": {},
   "source": [
    "# Q2. string 문장을 받아 역순으로 출력"
   ]
  },
  {
   "cell_type": "code",
   "execution_count": null,
   "id": "9bc91256",
   "metadata": {},
   "outputs": [],
   "source": [
    "sentence = \"way a is there will a is there Where\"\n",
    "\n",
    "def reverse_sentence(sentence) :\n",
    "    list = sentence.split()\n",
    "    list.reverse()\n",
    "    rev_sentence = \" \".join(list)\n",
    "    return rev_sentence\n",
    "\n",
    "print(reverse_sentence(sentence))"
   ]
  },
  {
   "cell_type": "code",
   "execution_count": null,
   "id": "4d6695b1",
   "metadata": {},
   "outputs": [],
   "source": [
    "sentence = \"way a is there will a is there Where\"\n",
    "\n",
    "def reverse_sentence(sentence) :\n",
    "    return \" \".join(sentence.split(\" \")[::-1])\n",
    "\n",
    "print(reverse_sentence(sentence))"
   ]
  },
  {
   "cell_type": "markdown",
   "id": "7859e781",
   "metadata": {},
   "source": [
    "# Q3. 학생들의 평균 점수 출력"
   ]
  },
  {
   "cell_type": "code",
   "execution_count": null,
   "id": "10cd4fd2",
   "metadata": {},
   "outputs": [],
   "source": [
    "score = [(100, 100), (95, 90), (55, 60), (75, 80), (70, 70)]\n",
    "\n",
    "def get_avg(score) :\n",
    "    avg = list(map(lambda x : (x[0] + x[1]) / 2, score))\n",
    "    for i, s in enumerate(avg) :\n",
    "               print(f'{i + 1} 번, 평균 : {s}')\n",
    "                \n",
    "get_avg(score)"
   ]
  },
  {
   "cell_type": "code",
   "execution_count": null,
   "id": "3c780e54",
   "metadata": {},
   "outputs": [],
   "source": [
    "score = [(100, 100), (95, 90), (55, 60), (75, 80), (70, 70)]\n",
    "\n",
    "def get_avg(score) :\n",
    "    for i in range(len(score)) :\n",
    "        avg = 0\n",
    "        for j in range(len(score[i])) :\n",
    "            avg = avg + score[i][j]  \n",
    "        print(i + 1, \" 번, 평균 : \", avg / 2)\n",
    "\n",
    "get_avg(score)"
   ]
  },
  {
   "cell_type": "markdown",
   "id": "2ee3dec8",
   "metadata": {},
   "source": [
    "# Q4. 2개의 딕셔너리 객체를 합쳐서 출력"
   ]
  },
  {
   "cell_type": "code",
   "execution_count": null,
   "id": "c4121ddd",
   "metadata": {},
   "outputs": [],
   "source": [
    "dict_first = {'사과' : 30, '배' : 15, '감' : 10, '포도' : 10}\n",
    "dict_second = {'사과' : 5, '감' : 25, '배' : 15, '귤' : 25}\n",
    "\n",
    "def merge_dict(dict_first, dict_second) :\n",
    "    new_dict = {}\n",
    "    for key in dict_first :\n",
    "        if key in dict_second :\n",
    "            new_dict[key] = dict_first[key] + dict_second[key]\n",
    "            del dict_second[key]\n",
    "        else : \n",
    "            new_dict[key] = dict_first[key]\n",
    "    for key in dict_second : \n",
    "        new_dict[key] = dict_second[key]\n",
    "        \n",
    "    print(dict(sorted(new_dict.items())))\n",
    "\n",
    "merge_dict(dict_first, dict_second)"
   ]
  },
  {
   "cell_type": "code",
   "execution_count": null,
   "id": "7f101237",
   "metadata": {},
   "outputs": [],
   "source": [
    "dict_first = {'사과' : 30, '배' : 15, '감' : 10, '포도' : 10}\n",
    "dict_second = {'사과' : 5, '감' : 25, '배' : 15, '귤' : 25}\n",
    "\n",
    "def merge_dict(dict_first, dict_second) :\n",
    "    dict_copy = dict_first.copy()\n",
    "    for key, value in dict_second.items() :\n",
    "        if key in dict_copy.keys() :\n",
    "            dict_copy[key] += value\n",
    "        else :\n",
    "            dict_copy[key] = value\n",
    "    print(dict(sorted(dict_copy.items())))\n",
    "\n",
    "merge_dict(dict_first, dict_second)"
   ]
  },
  {
   "cell_type": "markdown",
   "id": "5cd6b3d3",
   "metadata": {},
   "source": [
    "# Q5. string 내에서 숫자를 제거한 후 출력"
   ]
  },
  {
   "cell_type": "code",
   "execution_count": null,
   "id": "a0b36631",
   "metadata": {},
   "outputs": [],
   "source": [
    "# inputs = \"cat32dog16cow5\"\n",
    "inputs = input()\n",
    "\n",
    "def find_string(inputs) :\n",
    "    outputs = \"\"\n",
    "    for i in range(len(inputs)) :\n",
    "        if inputs[i].isdigit() == False :\n",
    "            outputs = outputs + inputs[i]\n",
    "        else :\n",
    "            outputs = outputs + \" \"\n",
    "    return outputs.split()\n",
    "\n",
    "string_list = find_string(inputs)\n",
    "print(string_list)"
   ]
  }
 ],
 "metadata": {
  "kernelspec": {
   "display_name": "Python 3 (ipykernel)",
   "language": "python",
   "name": "python3"
  },
  "language_info": {
   "codemirror_mode": {
    "name": "ipython",
    "version": 3
   },
   "file_extension": ".py",
   "mimetype": "text/x-python",
   "name": "python",
   "nbconvert_exporter": "python",
   "pygments_lexer": "ipython3",
   "version": "3.9.5"
  }
 },
 "nbformat": 4,
 "nbformat_minor": 5
}
