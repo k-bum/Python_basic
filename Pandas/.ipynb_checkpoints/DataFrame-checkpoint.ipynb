{
 "cells": [
  {
   "cell_type": "code",
   "execution_count": null,
   "id": "1a5207ad",
   "metadata": {},
   "outputs": [],
   "source": [
    "from pandas import Series,DataFrame \n",
    "# Series data가 모여서 Dataframe을 구성\n",
    "import pandas as pd\n",
    "import numpy as np"
   ]
  },
  {
   "cell_type": "code",
   "execution_count": null,
   "id": "802254b3",
   "metadata": {},
   "outputs": [],
   "source": [
    "raw_data = {'first_name' : ['Jason', 'Molly', 'Tina', 'Jake', 'Amy'], \n",
    "           'last_name' : ['Miller', 'Jacobson', 'Ali', 'Milner', 'Cooze'],\n",
    "           'age' : [42, 52, 36, 24, 73],\n",
    "           'city' : ['San Francisco', 'Baltmore', 'Miami', 'Douglas', 'Boston']}\n",
    "df = pd.DataFrame(raw_data, columns = ['first_name', 'last_name', 'age', 'city'])\n",
    "df"
   ]
  },
  {
   "cell_type": "code",
   "execution_count": null,
   "id": "781db3ae",
   "metadata": {},
   "outputs": [],
   "source": [
    "DataFrame(raw_data, columns = ['age', 'city'])"
   ]
  },
  {
   "cell_type": "code",
   "execution_count": null,
   "id": "006eb88c",
   "metadata": {},
   "outputs": [],
   "source": [
    "# 새로운 column 추가\n",
    "DataFrame(raw_data, columns = ['first_name', 'last_name', 'age', 'city', 'debt'])"
   ]
  },
  {
   "cell_type": "code",
   "execution_count": null,
   "id": "dc1a4e54",
   "metadata": {},
   "outputs": [],
   "source": [
    "df = DataFrame(raw_data, columns = ['first_name', 'last_name', 'age', 'city', 'debt'])\n",
    "print(df.first_name)\n",
    "print(df['first_name'])"
   ]
  },
  {
   "cell_type": "code",
   "execution_count": null,
   "id": "5bc10939",
   "metadata": {},
   "outputs": [],
   "source": [
    "print(df)\n",
    "print(df.loc[1]) # location\n",
    "print(df['age'].iloc[1:]) # index location"
   ]
  },
  {
   "cell_type": "code",
   "execution_count": null,
   "id": "9fb415db",
   "metadata": {},
   "outputs": [],
   "source": [
    "s = pd.Series(np.nan, index = [49, 48, 47, 46, 45, 1, 2, 3, 4, 5])\n",
    "print(s)\n",
    "print(s.loc[:3]) # index값이 3인 data까지 출력\n",
    "print(s.iloc[:3]) # 0 - 2번째까지의 index값 출력"
   ]
  },
  {
   "cell_type": "code",
   "execution_count": null,
   "id": "7ed5742b",
   "metadata": {},
   "outputs": [],
   "source": [
    "df.debt = df.age > 40\n",
    "df"
   ]
  },
  {
   "cell_type": "code",
   "execution_count": null,
   "id": "48e13ea2",
   "metadata": {},
   "outputs": [],
   "source": [
    "df.T # Transpose"
   ]
  },
  {
   "cell_type": "code",
   "execution_count": null,
   "id": "c844a872",
   "metadata": {},
   "outputs": [],
   "source": [
    "df.values"
   ]
  },
  {
   "cell_type": "code",
   "execution_count": null,
   "id": "e4d2be4d",
   "metadata": {},
   "outputs": [],
   "source": [
    "df.to_csv()"
   ]
  },
  {
   "cell_type": "code",
   "execution_count": null,
   "id": "c417a64b",
   "metadata": {},
   "outputs": [],
   "source": [
    "del df['debt']\n",
    "df"
   ]
  },
  {
   "cell_type": "code",
   "execution_count": null,
   "id": "fa4db539",
   "metadata": {},
   "outputs": [],
   "source": [
    "df.drop(0)"
   ]
  },
  {
   "cell_type": "code",
   "execution_count": null,
   "id": "b1ce38d2",
   "metadata": {},
   "outputs": [],
   "source": [
    "print(df) # data를 drop하더라도 원본 data는 변하지 않음\n",
    "df.drop(0, inplace = True) # 원본 data를 변화시키기 위해서는 inplace = True를 추가\n",
    "print(df)"
   ]
  },
  {
   "cell_type": "code",
   "execution_count": null,
   "id": "8335896c",
   "metadata": {},
   "outputs": [],
   "source": [
    "df1 = DataFrame(np.arange(9).reshape(3, 3),\n",
    "               columns = list('abc'))\n",
    "print(df1)\n",
    "df2 = DataFrame(np.arange(16).reshape(4, 4),\n",
    "               columns = list('abcd'))\n",
    "print(df2)"
   ]
  },
  {
   "cell_type": "code",
   "execution_count": null,
   "id": "5b564e49",
   "metadata": {},
   "outputs": [],
   "source": [
    "df1 + df2"
   ]
  },
  {
   "cell_type": "code",
   "execution_count": null,
   "id": "78f456ff",
   "metadata": {},
   "outputs": [],
   "source": [
    "df1.add(df2, fill_value = 0) # NaN값을 0으로 변환"
   ]
  },
  {
   "cell_type": "code",
   "execution_count": null,
   "id": "a536b1be",
   "metadata": {},
   "outputs": [],
   "source": [
    "s1 = Series(np.arange(10, 14))\n",
    "df2 + s1"
   ]
  },
  {
   "cell_type": "code",
   "execution_count": null,
   "id": "530e7c43",
   "metadata": {},
   "outputs": [],
   "source": [
    "df2.add(s1, axis = 0) # broadcasting 실행"
   ]
  }
 ],
 "metadata": {
  "kernelspec": {
   "display_name": "Python 3 (ipykernel)",
   "language": "python",
   "name": "python3"
  },
  "language_info": {
   "codemirror_mode": {
    "name": "ipython",
    "version": 3
   },
   "file_extension": ".py",
   "mimetype": "text/x-python",
   "name": "python",
   "nbconvert_exporter": "python",
   "pygments_lexer": "ipython3",
   "version": "3.9.5"
  }
 },
 "nbformat": 4,
 "nbformat_minor": 5
}
