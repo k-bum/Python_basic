{
 "cells": [
  {
   "cell_type": "code",
   "execution_count": null,
   "id": "1e4c870f",
   "metadata": {},
   "outputs": [],
   "source": [
    "from pandas import Series\n",
    "import pandas as pd\n",
    "import numpy as np"
   ]
  },
  {
   "cell_type": "code",
   "execution_count": null,
   "id": "afec53b0",
   "metadata": {},
   "outputs": [],
   "source": [
    "list_data = [1, 2, 3, 4, 5]\n",
    "example_obj = Series(data = list_data)\n",
    "example_obj"
   ]
  },
  {
   "cell_type": "code",
   "execution_count": null,
   "id": "a1ecea52",
   "metadata": {},
   "outputs": [],
   "source": [
    "list_data = [1, 2, 3, 4, 5]\n",
    "list_name = ['a', 'b', 'c', 'd', 'e']\n",
    "example_obj = Series(data = list_data, index = list_name)\n",
    "example_obj"
   ]
  },
  {
   "cell_type": "code",
   "execution_count": null,
   "id": "f380f6e1",
   "metadata": {},
   "outputs": [],
   "source": [
    "dict_data = {'a' : 1, 'b' : 2, 'c' : 3, 'd' : 4, 'e' : 5}\n",
    "example_obj = Series(data = dict_data, dtype = np.float32, name = \"example_data\")\n",
    "example_obj"
   ]
  },
  {
   "cell_type": "code",
   "execution_count": null,
   "id": "b096df38",
   "metadata": {},
   "outputs": [],
   "source": [
    "print(example_obj['a'])\n",
    "example_obj['a'] = 3.2\n",
    "print(example_obj)"
   ]
  },
  {
   "cell_type": "code",
   "execution_count": null,
   "id": "3e202f3f",
   "metadata": {},
   "outputs": [],
   "source": [
    "print(example_obj.values)\n",
    "print(example_obj.index)"
   ]
  },
  {
   "cell_type": "code",
   "execution_count": null,
   "id": "92bc3c66",
   "metadata": {},
   "outputs": [],
   "source": [
    "example_obj.name = \"number\"\n",
    "example_obj.index.name = \"alphabet\"\n",
    "example_obj"
   ]
  },
  {
   "cell_type": "code",
   "execution_count": null,
   "id": "f09bac04",
   "metadata": {},
   "outputs": [],
   "source": [
    "s1 = Series(range(1, 6), index = list('abcde'))\n",
    "print(s1)\n",
    "s2 = Series(range(5, 10), index = list('bcdef'))\n",
    "print(s2)"
   ]
  },
  {
   "cell_type": "code",
   "execution_count": null,
   "id": "124575ed",
   "metadata": {},
   "outputs": [],
   "source": [
    "print(s1.add(s2))\n",
    "print(s1 + s2) # 겹치는 index가 없는 경우 NaN 반환"
   ]
  }
 ],
 "metadata": {
  "kernelspec": {
   "display_name": "Python 3 (ipykernel)",
   "language": "python",
   "name": "python3"
  },
  "language_info": {
   "codemirror_mode": {
    "name": "ipython",
    "version": 3
   },
   "file_extension": ".py",
   "mimetype": "text/x-python",
   "name": "python",
   "nbconvert_exporter": "python",
   "pygments_lexer": "ipython3",
   "version": "3.9.5"
  }
 },
 "nbformat": 4,
 "nbformat_minor": 5
}
