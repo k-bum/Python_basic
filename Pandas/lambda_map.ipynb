{
 "cells": [
  {
   "cell_type": "code",
   "execution_count": null,
   "id": "d30e54a9",
   "metadata": {},
   "outputs": [],
   "source": [
    "import pandas as pd\n",
    "import numpy as np"
   ]
  },
  {
   "cell_type": "code",
   "execution_count": null,
   "id": "c563c18b",
   "metadata": {},
   "outputs": [],
   "source": [
    "from pandas import DataFrame, Series"
   ]
  },
  {
   "cell_type": "code",
   "execution_count": null,
   "id": "064a3a78",
   "metadata": {},
   "outputs": [],
   "source": [
    "f = lambda x, y : x + y\n",
    "f(1, 4)"
   ]
  },
  {
   "cell_type": "code",
   "execution_count": null,
   "id": "9a77c1aa",
   "metadata": {},
   "outputs": [],
   "source": [
    "s1 = Series(np.arange(10))\n",
    "s1.head(4)"
   ]
  },
  {
   "cell_type": "code",
   "execution_count": null,
   "id": "247147b8",
   "metadata": {},
   "outputs": [],
   "source": [
    "s1.map(lambda x : x ** 2).head(5)"
   ]
  },
  {
   "cell_type": "code",
   "execution_count": null,
   "id": "00169d5d",
   "metadata": {},
   "outputs": [],
   "source": [
    "z = {1 : 'A', 2 : 'B', 3 : 'C'}\n",
    "s1.map(z)"
   ]
  },
  {
   "cell_type": "code",
   "execution_count": null,
   "id": "8f1b6fdb",
   "metadata": {},
   "outputs": [],
   "source": [
    "raw_data = {'sex' : ['male', 'male', 'female', 'female']}\n",
    "df1 = pd.DataFrame(data = raw_data, columns = ['sex'])\n",
    "df1"
   ]
  },
  {
   "cell_type": "code",
   "execution_count": null,
   "id": "d6fd4457",
   "metadata": {},
   "outputs": [],
   "source": [
    "df1['sex_code'] = df1.sex.replace(['male','female'], [0, 1])\n",
    "df1"
   ]
  }
 ],
 "metadata": {
  "kernelspec": {
   "display_name": "Python 3 (ipykernel)",
   "language": "python",
   "name": "python3"
  },
  "language_info": {
   "codemirror_mode": {
    "name": "ipython",
    "version": 3
   },
   "file_extension": ".py",
   "mimetype": "text/x-python",
   "name": "python",
   "nbconvert_exporter": "python",
   "pygments_lexer": "ipython3",
   "version": "3.9.5"
  }
 },
 "nbformat": 4,
 "nbformat_minor": 5
}
