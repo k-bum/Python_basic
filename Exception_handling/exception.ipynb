{
 "cells": [
  {
   "cell_type": "code",
   "execution_count": null,
   "id": "9dd66ee6",
   "metadata": {},
   "outputs": [],
   "source": [
    "while True :\n",
    "    value = input(\"변환할 정수 값을 입력해주세요 : \")\n",
    "    for digit in value :\n",
    "        if digit not in \"0123456789\" :\n",
    "            raise ValueError(\"숫자를 입력하세요.\")\n",
    "    print(\"정수 값으로 변환된 숫자 - \", int(value))"
   ]
  },
  {
   "cell_type": "code",
   "execution_count": null,
   "id": "c8ae1a49",
   "metadata": {},
   "outputs": [],
   "source": [
    "def get_binary_number(decimal_number : int) :\n",
    "    assert isinstance(decimal_number, int)\n",
    "    return bin(decimal_number)\n",
    "\n",
    "print(get_binary_number(10.0))"
   ]
  }
 ],
 "metadata": {
  "kernelspec": {
   "display_name": "Python 3 (ipykernel)",
   "language": "python",
   "name": "python3"
  },
  "language_info": {
   "codemirror_mode": {
    "name": "ipython",
    "version": 3
   },
   "file_extension": ".py",
   "mimetype": "text/x-python",
   "name": "python",
   "nbconvert_exporter": "python",
   "pygments_lexer": "ipython3",
   "version": "3.9.5"
  }
 },
 "nbformat": 4,
 "nbformat_minor": 5
}
