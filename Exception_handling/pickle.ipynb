{
 "cells": [
  {
   "cell_type": "code",
   "execution_count": null,
   "id": "0c1cd87f",
   "metadata": {},
   "outputs": [],
   "source": [
    "import pickle\n",
    "\n",
    "f = open(\"list.pickle\", \"wb\") # write binary file\n",
    "test = [1, 2, 3, 4, 5]\n",
    "pickle.dump(test, f)\n",
    "f.close()"
   ]
  },
  {
   "cell_type": "code",
   "execution_count": null,
   "id": "732c0f88",
   "metadata": {},
   "outputs": [],
   "source": [
    "test"
   ]
  },
  {
   "cell_type": "code",
   "execution_count": null,
   "id": "a6b05474",
   "metadata": {},
   "outputs": [],
   "source": [
    "del test\n",
    "test"
   ]
  },
  {
   "cell_type": "code",
   "execution_count": null,
   "id": "be791c01",
   "metadata": {},
   "outputs": [],
   "source": [
    "f = open(\"list.pickle\", \"rb\")\n",
    "test_pickle = pickle.load(f)\n",
    "print(test_pickle)\n",
    "f.close()"
   ]
  },
  {
   "cell_type": "code",
   "execution_count": null,
   "id": "b399ff1f",
   "metadata": {},
   "outputs": [],
   "source": [
    "import pickle\n",
    "\n",
    "class Multiply(object) :\n",
    "    def __init__(self, multiplier) :\n",
    "        self.multiplier = multiplier\n",
    "        \n",
    "    def multiply(self, number) :\n",
    "        return number * self.multiplier"
   ]
  },
  {
   "cell_type": "code",
   "execution_count": null,
   "id": "1e03204b",
   "metadata": {},
   "outputs": [],
   "source": [
    "multiply = Multiply(5)\n",
    "print(multiply.multiply(100))"
   ]
  },
  {
   "cell_type": "code",
   "execution_count": null,
   "id": "6599da77",
   "metadata": {},
   "outputs": [],
   "source": [
    "f = open(\"multiply_object.pickle\", \"wb\")\n",
    "pickle.dump(multiply, f)"
   ]
  },
  {
   "cell_type": "code",
   "execution_count": null,
   "id": "48b8a4f1",
   "metadata": {},
   "outputs": [],
   "source": [
    "del multiply"
   ]
  },
  {
   "cell_type": "code",
   "execution_count": null,
   "id": "de53d5e0",
   "metadata": {},
   "outputs": [],
   "source": [
    "f = open(\"multiply_object.pickle\", \"rb\")\n",
    "multiply_pickle = pickle.load(f)\n",
    "print(multiply_pickle.multiply(100))"
   ]
  }
 ],
 "metadata": {
  "kernelspec": {
   "display_name": "Python 3 (ipykernel)",
   "language": "python",
   "name": "python3"
  },
  "language_info": {
   "codemirror_mode": {
    "name": "ipython",
    "version": 3
   },
   "file_extension": ".py",
   "mimetype": "text/x-python",
   "name": "python",
   "nbconvert_exporter": "python",
   "pygments_lexer": "ipython3",
   "version": "3.9.5"
  }
 },
 "nbformat": 4,
 "nbformat_minor": 5
}
