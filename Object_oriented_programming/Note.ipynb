{
 "cells": [
  {
   "cell_type": "code",
   "execution_count": null,
   "id": "2187c554",
   "metadata": {},
   "outputs": [],
   "source": [
    "from Note_book import Note\n",
    "from Note_book import NoteBook"
   ]
  },
  {
   "cell_type": "code",
   "execution_count": null,
   "id": "fd615607",
   "metadata": {},
   "outputs": [],
   "source": [
    "my_notebook = NoteBook(\"python object oriented programming\")\n",
    "my_notebook"
   ]
  },
  {
   "cell_type": "code",
   "execution_count": null,
   "id": "a61dd943",
   "metadata": {},
   "outputs": [],
   "source": [
    "new_note = Note(\"python\")\n",
    "print(new_note)\n",
    "new_note_2 = Note(\"python lecture\")\n",
    "print(new_note_2)"
   ]
  },
  {
   "cell_type": "code",
   "execution_count": null,
   "id": "d8c52d31",
   "metadata": {},
   "outputs": [],
   "source": [
    "my_notebook.add_note(new_note, 1)\n",
    "my_notebook.add_note(new_note_2, 100)\n",
    "# my_notebook.get_number_of_pages()\n",
    "# print(my_notebook.notes[1])\n",
    "print(my_notebook.notes[100])"
   ]
  }
 ],
 "metadata": {
  "kernelspec": {
   "display_name": "Python 3 (ipykernel)",
   "language": "python",
   "name": "python3"
  },
  "language_info": {
   "codemirror_mode": {
    "name": "ipython",
    "version": 3
   },
   "file_extension": ".py",
   "mimetype": "text/x-python",
   "name": "python",
   "nbconvert_exporter": "python",
   "pygments_lexer": "ipython3",
   "version": "3.9.5"
  }
 },
 "nbformat": 4,
 "nbformat_minor": 5
}
