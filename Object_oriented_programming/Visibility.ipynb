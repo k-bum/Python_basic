{
 "cells": [
  {
   "cell_type": "markdown",
   "id": "5043355d",
   "metadata": {},
   "source": [
    "# Encapsulation\n",
    "    - 정보의 은닉, 캡슐화\n",
    "    - 클래스를 설계할 때, 클래스 간 간섭/정보 공유의 최소화"
   ]
  },
  {
   "cell_type": "code",
   "execution_count": null,
   "id": "7044c16c",
   "metadata": {},
   "outputs": [],
   "source": [
    "class Product(object) :\n",
    "    pass\n",
    "\n",
    "class Inventory(object) :\n",
    "    def __init__(self) :\n",
    "        self.__items = []\n",
    "        \n",
    "    def add_new_item(self, product) :\n",
    "        if type(product) == Product :\n",
    "            self.__items.append(product)\n",
    "            print(\"New item added\")\n",
    "        else :\n",
    "            raise ValueError(\"Invalid item\")\n",
    "            \n",
    "    def get_number_of_items(self) :\n",
    "        return len(self.items)"
   ]
  },
  {
   "cell_type": "code",
   "execution_count": null,
   "id": "be835746",
   "metadata": {},
   "outputs": [],
   "source": [
    "my_inventory = Inventory()\n",
    "a = Product()\n",
    "my_inventory.add_new_item(a)\n",
    "my_inventory\n",
    "# my_inventory.__items.append(\"b\")"
   ]
  },
  {
   "cell_type": "code",
   "execution_count": 1,
   "id": "acd3b030",
   "metadata": {},
   "outputs": [],
   "source": [
    "class Product(object) :\n",
    "    pass\n",
    "\n",
    "class Inventory(object) :\n",
    "    def __init__(self) :\n",
    "        self.__items = []\n",
    "        \n",
    "    def add_new_item(self, product) :\n",
    "        if type(product) == Product :\n",
    "            self.__items.append(product)\n",
    "            print(\"New item added\")\n",
    "        else :\n",
    "            raise ValueError(\"Invalid item\")\n",
    "            \n",
    "    def get_number_of_items(self) :\n",
    "        return len(self.items)\n",
    "    \n",
    "    @property\n",
    "    def items(self) :\n",
    "        return self.__items"
   ]
  },
  {
   "cell_type": "code",
   "execution_count": 2,
   "id": "ed1248d6",
   "metadata": {},
   "outputs": [
    {
     "name": "stdout",
     "output_type": "stream",
     "text": [
      "New item added\n"
     ]
    },
    {
     "data": {
      "text/plain": [
       "[<__main__.Product at 0x1a3776163d0>]"
      ]
     },
     "execution_count": 2,
     "metadata": {},
     "output_type": "execute_result"
    }
   ],
   "source": [
    "my_inventory = Inventory()\n",
    "a = Product()\n",
    "my_inventory.add_new_item(a)\n",
    "my_inventory.items"
   ]
  }
 ],
 "metadata": {
  "kernelspec": {
   "display_name": "Python 3 (ipykernel)",
   "language": "python",
   "name": "python3"
  },
  "language_info": {
   "codemirror_mode": {
    "name": "ipython",
    "version": 3
   },
   "file_extension": ".py",
   "mimetype": "text/x-python",
   "name": "python",
   "nbconvert_exporter": "python",
   "pygments_lexer": "ipython3",
   "version": "3.9.5"
  }
 },
 "nbformat": 4,
 "nbformat_minor": 5
}
