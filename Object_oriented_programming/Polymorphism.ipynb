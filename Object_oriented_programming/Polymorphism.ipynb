{
 "cells": [
  {
   "cell_type": "code",
   "execution_count": null,
   "id": "1c6ac58d",
   "metadata": {},
   "outputs": [],
   "source": [
    "class Animal :\n",
    "    def __init__(self, name) :\n",
    "        self.name = name\n",
    "    \n",
    "    def talk(self) :\n",
    "        raise NotImplementedError(\"Subclass must implement abstract method\")"
   ]
  },
  {
   "cell_type": "code",
   "execution_count": null,
   "id": "6c4accbc",
   "metadata": {},
   "outputs": [],
   "source": [
    "class Cat(Animal) : \n",
    "    def talk(self) :\n",
    "        return \"Meow!\"\n",
    "\n",
    "class Dog(Animal) :\n",
    "    def talk(self) :\n",
    "        return \"Woof! Woof!\""
   ]
  },
  {
   "cell_type": "code",
   "execution_count": null,
   "id": "f4f36fbf",
   "metadata": {},
   "outputs": [],
   "source": [
    "animals = [Cat(\"a\"), Cat(\"b\"), Dog(\"c\")]\n",
    "\n",
    "for animal in animals :\n",
    "    print(animal.name, \" : \", animal.talk())"
   ]
  }
 ],
 "metadata": {
  "kernelspec": {
   "display_name": "Python 3 (ipykernel)",
   "language": "python",
   "name": "python3"
  },
  "language_info": {
   "codemirror_mode": {
    "name": "ipython",
    "version": 3
   },
   "file_extension": ".py",
   "mimetype": "text/x-python",
   "name": "python",
   "nbconvert_exporter": "python",
   "pygments_lexer": "ipython3",
   "version": "3.9.5"
  }
 },
 "nbformat": 4,
 "nbformat_minor": 5
}
