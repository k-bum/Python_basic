{
 "cells": [
  {
   "cell_type": "code",
   "execution_count": null,
   "id": "fb99a724",
   "metadata": {},
   "outputs": [],
   "source": [
    "class Note(object) :\n",
    "    def __init__(self, content = None) :\n",
    "        self.content = content\n",
    "    \n",
    "    def write_content(self, new_contetnt) :\n",
    "        self.content = new_content \n",
    "    \n",
    "    def remove_all(self) :\n",
    "        self.content = \"\"\n",
    "    \n",
    "    def __add__(self, other) :\n",
    "        return self.content + other.content\n",
    "    \n",
    "    def __str__(self) :\n",
    "        return self.content"
   ]
  },
  {
   "cell_type": "code",
   "execution_count": 1,
   "id": "92c1d0f7",
   "metadata": {},
   "outputs": [],
   "source": [
    "class NoteBook(object) :\n",
    "    def __init__(self, title) :\n",
    "        self.title = title\n",
    "        self.page_num = 1\n",
    "        self.notes = {}\n",
    "    \n",
    "    def add_note(self, note, page = 0) :\n",
    "        if self.page_num < 300 :\n",
    "            if page == 0 :\n",
    "                self.notes[self.page_num] == note\n",
    "                self.page_num += 1\n",
    "            else :\n",
    "                self.notes = {page : note}\n",
    "                self.page_num += 1\n",
    "        else :\n",
    "            print(\"페이지가 모두 채워졌습니다.\")\n",
    "    \n",
    "    def remove_note(self, page_num) :\n",
    "        if page_num in self.notes.keys() :\n",
    "            return self.notes.pop(page_num)\n",
    "        else :\n",
    "            print(\"해당 페이지는 존재하지 않습니다.\")\n",
    "            \n",
    "    def get_number_of_pages(self) :\n",
    "        return self.page_num"
   ]
  }
 ],
 "metadata": {
  "kernelspec": {
   "display_name": "Python 3 (ipykernel)",
   "language": "python",
   "name": "python3"
  },
  "language_info": {
   "codemirror_mode": {
    "name": "ipython",
    "version": 3
   },
   "file_extension": ".py",
   "mimetype": "text/x-python",
   "name": "python",
   "nbconvert_exporter": "python",
   "pygments_lexer": "ipython3",
   "version": "3.9.5"
  }
 },
 "nbformat": 4,
 "nbformat_minor": 5
}
