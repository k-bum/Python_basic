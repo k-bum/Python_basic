{
 "cells": [
  {
   "cell_type": "code",
   "execution_count": null,
   "id": "79ec5333",
   "metadata": {},
   "outputs": [],
   "source": [
    "class Person(object) :\n",
    "    def __init__(self, name, age) :\n",
    "        self.name = name\n",
    "        self.age = age\n",
    "    def __str__(self) :\n",
    "        return \"제 이름은 {0}입니다. 나이는 {1}세 입니다.\" .format \\\n",
    "    (self.name, self.age)"
   ]
  },
  {
   "cell_type": "code",
   "execution_count": null,
   "id": "bd5d4ce4",
   "metadata": {},
   "outputs": [],
   "source": [
    "class Korean(Person) :\n",
    "    pass"
   ]
  },
  {
   "cell_type": "code",
   "execution_count": null,
   "id": "b4948ea5",
   "metadata": {},
   "outputs": [],
   "source": [
    "first_korean = Korean(\"홍길동\", 25)\n",
    "print(first_korean)"
   ]
  },
  {
   "cell_type": "code",
   "execution_count": null,
   "id": "ca635b49",
   "metadata": {},
   "outputs": [],
   "source": [
    "class Person_2 :\n",
    "    def __init__(self, name, age, gender) :\n",
    "        self.name = name\n",
    "        self.age = age\n",
    "        self.gender = gender\n",
    "    \n",
    "    def about_me(self) :\n",
    "        print(\"제 이름은 %s이고, 제 나이는 %d세 입니다.\" % \\\n",
    "             (self.name, self.age))\n",
    "        \n",
    "    def __str__(self) :\n",
    "        return \"제 이름은 %s이고, 제 성별은 %s입니다.\" % \\\n",
    "    (self.name, self.gender)"
   ]
  },
  {
   "cell_type": "code",
   "execution_count": null,
   "id": "416aa70a",
   "metadata": {},
   "outputs": [],
   "source": [
    "class Employee(Person_2) :\n",
    "    def __init__(self, name, age, gender, salary, hire_date) :\n",
    "        super().__init__(name, age, gender)\n",
    "        self.salary = salary\n",
    "        self.hire_date = hire_date\n",
    "        \n",
    "    def do_work(self) :\n",
    "        print(\"열심히 일을 합니다.\")\n",
    "    \n",
    "    def about_me(self) :\n",
    "        super().about_me()\n",
    "        print(\"제 급여는 %d원 이고, 제 입사일은 %s입니다.\" % \\\n",
    "              (self.salary, self.hire_date))"
   ]
  },
  {
   "cell_type": "code",
   "execution_count": null,
   "id": "a36e891e",
   "metadata": {},
   "outputs": [],
   "source": [
    "myPerson = Person_2(\"John\", 34, \"남자\")\n",
    "myEmployee = Employee(\"Peter\", 34, \"남자\", 300000, \"2021년 12월 30일\")\n",
    "myEmployee.about_me()"
   ]
  }
 ],
 "metadata": {
  "kernelspec": {
   "display_name": "Python 3 (ipykernel)",
   "language": "python",
   "name": "python3"
  },
  "language_info": {
   "codemirror_mode": {
    "name": "ipython",
    "version": 3
   },
   "file_extension": ".py",
   "mimetype": "text/x-python",
   "name": "python",
   "nbconvert_exporter": "python",
   "pygments_lexer": "ipython3",
   "version": "3.9.5"
  }
 },
 "nbformat": 4,
 "nbformat_minor": 5
}
