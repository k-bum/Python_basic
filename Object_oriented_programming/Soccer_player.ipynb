{
 "cells": [
  {
   "cell_type": "code",
   "execution_count": null,
   "id": "5af08390",
   "metadata": {},
   "outputs": [],
   "source": [
    "class SoccerPlayer(object) :\n",
    "    def __init__(self, name : str, position : str, back_num : int) :\n",
    "        self.name = name\n",
    "        self.position = position\n",
    "        self.back_num = back_num\n",
    "        \n",
    "    def change_back_num(self, new_num : int) :\n",
    "        print(\"선수의 등번호를 변경합니다 : %d -> %d\" % \\\n",
    "              (self.back_num, new_num))\n",
    "        self.back_num = new_num\n",
    "        \n",
    "    def __str__(self) :\n",
    "        return \"Hello, my name is %s. My back number is %d\" % \\\n",
    "    (self.name, self.back_num)\n",
    "    "
   ]
  },
  {
   "cell_type": "code",
   "execution_count": null,
   "id": "c0b277eb",
   "metadata": {},
   "outputs": [],
   "source": [
    "Choi = SoccerPlayer(\"Choi\", \"MF\", 10)\n",
    "print(Choi)\n",
    "Choi.change_back_num(13)\n",
    "print(Choi)"
   ]
  },
  {
   "cell_type": "code",
   "execution_count": null,
   "id": "189d384f",
   "metadata": {},
   "outputs": [],
   "source": [
    "Son = SoccerPlayer(\"Son\", \"FW\", 7)\n",
    "print(Son)\n",
    "Son.back_num = 10\n",
    "print(Son)"
   ]
  }
 ],
 "metadata": {
  "kernelspec": {
   "display_name": "Python 3 (ipykernel)",
   "language": "python",
   "name": "python3"
  },
  "language_info": {
   "codemirror_mode": {
    "name": "ipython",
    "version": 3
   },
   "file_extension": ".py",
   "mimetype": "text/x-python",
   "name": "python",
   "nbconvert_exporter": "python",
   "pygments_lexer": "ipython3",
   "version": "3.9.5"
  }
 },
 "nbformat": 4,
 "nbformat_minor": 5
}
