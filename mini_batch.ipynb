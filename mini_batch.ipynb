{
 "cells": [
  {
   "cell_type": "code",
   "execution_count": 9,
   "id": "bc3a0bb8",
   "metadata": {},
   "outputs": [],
   "source": [
    "from torch.utils.data import Dataset\n",
    "import torch"
   ]
  },
  {
   "cell_type": "code",
   "execution_count": 3,
   "id": "b97e4658",
   "metadata": {},
   "outputs": [],
   "source": [
    "class CustomDataset(Dataset) :\n",
    "    def __init__(self) :\n",
    "        self.x_data = [[73, 80, 75],\n",
    "                      [93, 88, 93],\n",
    "                      [89, 91, 90],\n",
    "                      [96, 98, 100],\n",
    "                      [73, 66, 70]]\n",
    "        self.y_data = [[152], [185], [180], [196], [142]]\n",
    "        \n",
    "    def __len__(self) :\n",
    "        return len(self.x_data)\n",
    "    \n",
    "    def __getitem__(self, idx) :\n",
    "        x = torch.FloatTensor(self.x_data)\n",
    "        y = torch.FloatTensor(self.y_data)\n",
    "        return x, y\n",
    "    \n",
    "dataset = CustomDataset()"
   ]
  },
  {
   "cell_type": "code",
   "execution_count": 17,
   "id": "85989151",
   "metadata": {},
   "outputs": [],
   "source": [
    "from torch.utils.data import DataLoader\n",
    "import torch.nn as nn"
   ]
  },
  {
   "cell_type": "code",
   "execution_count": 27,
   "id": "a407b001",
   "metadata": {},
   "outputs": [],
   "source": [
    "dataloader = DataLoader(dataset, batch_size = 2, shuffle = True)"
   ]
  },
  {
   "cell_type": "code",
   "execution_count": 28,
   "id": "17736bf3",
   "metadata": {},
   "outputs": [],
   "source": [
    "class MultivariateLinearRegressionModel(nn.Module) :\n",
    "    def __init__(self) :\n",
    "        super().__init__()\n",
    "        self.linear = nn.Linear(3, 1)\n",
    "        \n",
    "    def forward(self, x) :\n",
    "        return self.linear(x)"
   ]
  },
  {
   "cell_type": "code",
   "execution_count": 30,
   "id": "640ab666",
   "metadata": {},
   "outputs": [
    {
     "name": "stdout",
     "output_type": "stream",
     "text": [
      "Epoch :    0/20 Batch : 1/3 Cost : 35320.656250\n",
      "Epoch :    0/20 Batch : 2/3 Cost : 39497.421875\n",
      "Epoch :    0/20 Batch : 3/3 Cost : 56484.085938\n",
      "Epoch :    1/20 Batch : 1/3 Cost : 25970.216797\n",
      "Epoch :    1/20 Batch : 2/3 Cost : 16321.521484\n",
      "Epoch :    1/20 Batch : 3/3 Cost : 29914.058594\n",
      "Epoch :    2/20 Batch : 1/3 Cost : 13414.028320\n",
      "Epoch :    2/20 Batch : 2/3 Cost : 23941.746094\n",
      "Epoch :    2/20 Batch : 3/3 Cost : 10461.677734\n",
      "Epoch :    3/20 Batch : 1/3 Cost : 15034.995117\n",
      "Epoch :    3/20 Batch : 2/3 Cost : 40714.351562\n",
      "Epoch :    3/20 Batch : 3/3 Cost : 39942.554688\n",
      "Epoch :    4/20 Batch : 1/3 Cost : 26514.681641\n",
      "Epoch :    4/20 Batch : 2/3 Cost : 14394.760742\n",
      "Epoch :    4/20 Batch : 3/3 Cost : 17752.755859\n",
      "Epoch :    5/20 Batch : 1/3 Cost : 29639.490234\n",
      "Epoch :    5/20 Batch : 2/3 Cost : 44141.570312\n",
      "Epoch :    5/20 Batch : 3/3 Cost : 9645.025391\n",
      "Epoch :    6/20 Batch : 1/3 Cost : 62305.312500\n",
      "Epoch :    6/20 Batch : 2/3 Cost : 5054.505859\n",
      "Epoch :    6/20 Batch : 3/3 Cost : 19978.984375\n",
      "Epoch :    7/20 Batch : 1/3 Cost : 50134.417969\n",
      "Epoch :    7/20 Batch : 2/3 Cost : 35719.195312\n",
      "Epoch :    7/20 Batch : 3/3 Cost : 45760.433594\n",
      "Epoch :    8/20 Batch : 1/3 Cost : 58160.960938\n",
      "Epoch :    8/20 Batch : 2/3 Cost : 75872.296875\n",
      "Epoch :    8/20 Batch : 3/3 Cost : 43387.019531\n",
      "Epoch :    9/20 Batch : 1/3 Cost : 38463.234375\n",
      "Epoch :    9/20 Batch : 2/3 Cost : 42762.781250\n",
      "Epoch :    9/20 Batch : 3/3 Cost : 19060.146484\n",
      "Epoch :   10/20 Batch : 1/3 Cost : 33928.464844\n",
      "Epoch :   10/20 Batch : 2/3 Cost : 46479.972656\n",
      "Epoch :   10/20 Batch : 3/3 Cost : 20675.638672\n",
      "Epoch :   11/20 Batch : 1/3 Cost : 13124.754883\n",
      "Epoch :   11/20 Batch : 2/3 Cost : 32808.281250\n",
      "Epoch :   11/20 Batch : 3/3 Cost : 23303.552734\n",
      "Epoch :   12/20 Batch : 1/3 Cost : 20512.824219\n",
      "Epoch :   12/20 Batch : 2/3 Cost : 52072.273438\n",
      "Epoch :   12/20 Batch : 3/3 Cost : 74081.156250\n",
      "Epoch :   13/20 Batch : 1/3 Cost : 77751.140625\n",
      "Epoch :   13/20 Batch : 2/3 Cost : 32208.275391\n",
      "Epoch :   13/20 Batch : 3/3 Cost : 11794.555664\n",
      "Epoch :   14/20 Batch : 1/3 Cost : 8067.921875\n",
      "Epoch :   14/20 Batch : 2/3 Cost : 7170.291992\n",
      "Epoch :   14/20 Batch : 3/3 Cost : 42041.636719\n",
      "Epoch :   15/20 Batch : 1/3 Cost : 81863.109375\n",
      "Epoch :   15/20 Batch : 2/3 Cost : 40294.363281\n",
      "Epoch :   15/20 Batch : 3/3 Cost : 31314.974609\n",
      "Epoch :   16/20 Batch : 1/3 Cost : 38629.066406\n",
      "Epoch :   16/20 Batch : 2/3 Cost : 9318.273438\n",
      "Epoch :   16/20 Batch : 3/3 Cost : 5854.387695\n",
      "Epoch :   17/20 Batch : 1/3 Cost : 30265.984375\n",
      "Epoch :   17/20 Batch : 2/3 Cost : 29035.167969\n",
      "Epoch :   17/20 Batch : 3/3 Cost : 14318.213867\n",
      "Epoch :   18/20 Batch : 1/3 Cost : 61921.898438\n",
      "Epoch :   18/20 Batch : 2/3 Cost : 42059.269531\n",
      "Epoch :   18/20 Batch : 3/3 Cost : 37368.667969\n",
      "Epoch :   19/20 Batch : 1/3 Cost : 49965.355469\n",
      "Epoch :   19/20 Batch : 2/3 Cost : 33675.105469\n",
      "Epoch :   19/20 Batch : 3/3 Cost : 31413.003906\n",
      "Epoch :   20/20 Batch : 1/3 Cost : 37042.031250\n",
      "Epoch :   20/20 Batch : 2/3 Cost : 10541.884766\n",
      "Epoch :   20/20 Batch : 3/3 Cost : 44925.230469\n"
     ]
    }
   ],
   "source": [
    "nb_epochs = 20\n",
    "for epoch in range(nb_epochs + 1) :\n",
    "    for batch_idx, samples in enumerate(dataloader) :\n",
    "        x_train, y_train = samples\n",
    "        model = MultivariateLinearRegressionModel()\n",
    "        \n",
    "        w = torch.zeros((3, 1), requires_grad = True)\n",
    "        b = torch.zeros(1, requires_grad = True)\n",
    "        \n",
    "        prediction = model(x_train)\n",
    "        cost = torch.mean((prediction - y_train) ** 2)\n",
    "        optimizer = torch.optim.SGD([w, b], lr = 1e-5)\n",
    "        \n",
    "        optimizer.zero_grad()\n",
    "        cost.backward()\n",
    "        optimizer.step()\n",
    "        print('Epoch : {:4d}/{} Batch : {}/{} Cost : {:6f}'.format(epoch, nb_epochs, batch_idx + 1,\n",
    "                                                                  len(dataloader), cost.item()))"
   ]
  }
 ],
 "metadata": {
  "kernelspec": {
   "display_name": "Python 3 (ipykernel)",
   "language": "python",
   "name": "python3"
  },
  "language_info": {
   "codemirror_mode": {
    "name": "ipython",
    "version": 3
   },
   "file_extension": ".py",
   "mimetype": "text/x-python",
   "name": "python",
   "nbconvert_exporter": "python",
   "pygments_lexer": "ipython3",
   "version": "3.9.5"
  }
 },
 "nbformat": 4,
 "nbformat_minor": 5
}
