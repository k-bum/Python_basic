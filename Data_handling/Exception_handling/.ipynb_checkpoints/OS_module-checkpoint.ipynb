{
 "cells": [
  {
   "cell_type": "code",
   "execution_count": null,
   "id": "53ab4271",
   "metadata": {},
   "outputs": [],
   "source": [
    "import os\n",
    "\n",
    "try :\n",
    "    os.mkdir(\"abc\")\n",
    "except FileExistsError as e :\n",
    "    print(e)\n",
    "    print(\"Already created\")"
   ]
  },
  {
   "cell_type": "code",
   "execution_count": null,
   "id": "ae356ab2",
   "metadata": {},
   "outputs": [],
   "source": [
    "os.path.exists(\"abc\")"
   ]
  },
  {
   "cell_type": "code",
   "execution_count": null,
   "id": "4402790f",
   "metadata": {},
   "outputs": [],
   "source": [
    "import pathlib\n",
    "pathlib.Path.cwd() # current working directory"
   ]
  },
  {
   "cell_type": "code",
   "execution_count": null,
   "id": "c47fd283",
   "metadata": {},
   "outputs": [],
   "source": [
    "cwd = pathlib.Path.cwd()\n",
    "cwd.parent\n",
    "cwd.parent.parent"
   ]
  },
  {
   "cell_type": "code",
   "execution_count": null,
   "id": "75d4f4b7",
   "metadata": {},
   "outputs": [],
   "source": [
    "import os\n",
    "if not os.path.exists(\"abc\") :\n",
    "    os.mkdir(\"abc\")\n",
    "\n",
    "TARGET_FILE_PATH = os.path.join(\"abc\", \"count_log.txt\")\n",
    "if not os.path.exists(TARGET_FILE_PATH) :\n",
    "    f = open(\"abc/count_log.txt\", mode = \"w\", encoding = \"utf8\")\n",
    "    f.write(\"Start recording\\n\")\n",
    "    f.close()\n",
    "\n",
    "with open(\"abc/count_log.txt\", \"a\", encoding = \"utf8\") as f :\n",
    "    import random, datetime\n",
    "    for i in range(1, 11) :\n",
    "        stamp = str(datetime.datetime.now())\n",
    "        value = random.random() * 1000000\n",
    "        log_line = stamp + \"\\t\" + str(value) + \"값이 생성되었습니다\" + \"\\n\"\n",
    "        f.write(log_line)\n",
    "        "
   ]
  }
 ],
 "metadata": {
  "kernelspec": {
   "display_name": "Python 3 (ipykernel)",
   "language": "python",
   "name": "python3"
  },
  "language_info": {
   "codemirror_mode": {
    "name": "ipython",
    "version": 3
   },
   "file_extension": ".py",
   "mimetype": "text/x-python",
   "name": "python",
   "nbconvert_exporter": "python",
   "pygments_lexer": "ipython3",
   "version": "3.9.5"
  }
 },
 "nbformat": 4,
 "nbformat_minor": 5
}
