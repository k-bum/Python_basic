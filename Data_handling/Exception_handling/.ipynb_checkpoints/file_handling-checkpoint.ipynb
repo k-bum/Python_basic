{
 "cells": [
  {
   "cell_type": "code",
   "execution_count": null,
   "id": "0d73afbb",
   "metadata": {},
   "outputs": [],
   "source": [
    "f = open(\"textfile.txt\", \"r\")\n",
    "contents = f.read()\n",
    "print(contents)\n",
    "f.close()"
   ]
  },
  {
   "cell_type": "code",
   "execution_count": null,
   "id": "f6300ff1",
   "metadata": {},
   "outputs": [],
   "source": [
    "with open(\"textfile.txt\", \"r\") as f :\n",
    "    content_list = f.readlines()\n",
    "print(content_list[0])\n",
    "print(content_list[1])\n",
    "print(type(content_list))"
   ]
  },
  {
   "cell_type": "code",
   "execution_count": null,
   "id": "7c918915",
   "metadata": {},
   "outputs": [],
   "source": [
    "with open(\"textfile.txt\", \"r\") as my_file :\n",
    "    i = 0\n",
    "    while True :\n",
    "        line = my_file.readline()\n",
    "        if i == 5 :\n",
    "            break\n",
    "        print(\"{0} ======= {1}\" .format(i, line))\n",
    "        i += 1"
   ]
  },
  {
   "cell_type": "code",
   "execution_count": null,
   "id": "3da82436",
   "metadata": {},
   "outputs": [],
   "source": [
    "f = open(\"count_log.txt\", mode = \"w\", encoding = \"utf8\")\n",
    "for i in range(1, 11) :\n",
    "    data = \"{0}번째 줄입니다.\\n\" .format(i)\n",
    "    f.write(data)\n",
    "f.close()"
   ]
  },
  {
   "cell_type": "code",
   "execution_count": null,
   "id": "3ada9940",
   "metadata": {},
   "outputs": [],
   "source": [
    "f = open(\"textfile.txt\", mode = \"a\", encoding = \"utf8\")\n",
    "for i in range(1, 11) :\n",
    "    data = \"{0}번째 줄입니다.\\n\" .format(i)\n",
    "    f.write(data)\n",
    "f.close()"
   ]
  }
 ],
 "metadata": {
  "kernelspec": {
   "display_name": "Python 3 (ipykernel)",
   "language": "python",
   "name": "python3"
  },
  "language_info": {
   "codemirror_mode": {
    "name": "ipython",
    "version": 3
   },
   "file_extension": ".py",
   "mimetype": "text/x-python",
   "name": "python",
   "nbconvert_exporter": "python",
   "pygments_lexer": "ipython3",
   "version": "3.9.5"
  }
 },
 "nbformat": 4,
 "nbformat_minor": 5
}
