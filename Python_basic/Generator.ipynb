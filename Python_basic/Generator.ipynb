{
 "cells": [
  {
   "cell_type": "code",
   "execution_count": null,
   "id": "4b347986",
   "metadata": {},
   "outputs": [],
   "source": [
    "def general_list(value) : \n",
    "    result = []\n",
    "    for i in range(value) :\n",
    "        result.append(i)\n",
    "    return result\n",
    "general_list(5)"
   ]
  },
  {
   "cell_type": "code",
   "execution_count": null,
   "id": "f41f03e5",
   "metadata": {},
   "outputs": [],
   "source": [
    "def generator_list(value) : \n",
    "    result = []\n",
    "    for i in range(value) :\n",
    "       yield i \n",
    "generator_list(5)\n",
    "for a in generator_list(5) :\n",
    "    print(a)"
   ]
  },
  {
   "cell_type": "code",
   "execution_count": null,
   "id": "ec27f75d",
   "metadata": {},
   "outputs": [],
   "source": [
    "gen_ex = (n * n for n in range(5))\n",
    "print(type(gen_ex))\n",
    "for i in gen_ex :\n",
    "    print(i)\n",
    "    \n",
    "from sys import getsizeof\n",
    "gen_ex = (n * n for n in range(5000))\n",
    "print(getsizeof(gen_ex))\n",
    "list_ex = [n * n for n in range(5)]\n",
    "print(getsizeof(list_ex))"
   ]
  }
 ],
 "metadata": {
  "kernelspec": {
   "display_name": "Python 3 (ipykernel)",
   "language": "python",
   "name": "python3"
  },
  "language_info": {
   "codemirror_mode": {
    "name": "ipython",
    "version": 3
   },
   "file_extension": ".py",
   "mimetype": "text/x-python",
   "name": "python",
   "nbconvert_exporter": "python",
   "pygments_lexer": "ipython3",
   "version": "3.9.5"
  }
 },
 "nbformat": 4,
 "nbformat_minor": 5
}
