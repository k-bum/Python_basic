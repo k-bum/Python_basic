{
 "cells": [
  {
   "cell_type": "code",
   "execution_count": null,
   "id": "fbb44adf",
   "metadata": {},
   "outputs": [],
   "source": [
    "colors = ['red', 'blue', 'green']"
   ]
  },
  {
   "cell_type": "code",
   "execution_count": null,
   "id": "4b657e37",
   "metadata": {},
   "outputs": [],
   "source": [
    "print(colors[0])\n",
    "print(colors[1])\n",
    "print(colors[2])"
   ]
  },
  {
   "cell_type": "code",
   "execution_count": null,
   "id": "8c294884",
   "metadata": {
    "scrolled": true
   },
   "outputs": [],
   "source": [
    "len(colors) # colors 내의 element의 개수를 출력한다."
   ]
  },
  {
   "cell_type": "code",
   "execution_count": null,
   "id": "e75aa05f",
   "metadata": {},
   "outputs": [],
   "source": [
    "# slicing\n",
    "cities = ['Seoul', 'Busan', 'Incheon', 'Daegu', 'Daejun', 'Kwangju', 'Ulsan', 'Suwon']"
   ]
  },
  {
   "cell_type": "code",
   "execution_count": null,
   "id": "3473e6d6",
   "metadata": {},
   "outputs": [],
   "source": [
    "cities[5:10]\n",
    "cities[0:3] # 0부터 2까지 반환\n",
    "print(cities[0:6], \"and\", cities[-9:])\n",
    "print(cities[0:10:2]) \n",
    "print(cities[::-1]) "
   ]
  },
  {
   "cell_type": "code",
   "execution_count": null,
   "id": "81dc668e",
   "metadata": {},
   "outputs": [],
   "source": [
    "color = ['red', 'blue', 'green']\n",
    "color2 = ['orange', 'black', 'white']\n",
    "color + color2"
   ]
  },
  {
   "cell_type": "code",
   "execution_count": null,
   "id": "1aa07504",
   "metadata": {},
   "outputs": [],
   "source": [
    "color[0] = \"yellow\"\n",
    "color\n",
    "color * 2\n",
    "'blue' in color\n",
    "'blue' in color2\n",
    "total_color = color + color2\n",
    "print(total_color)"
   ]
  },
  {
   "cell_type": "code",
   "execution_count": null,
   "id": "e7d32206",
   "metadata": {},
   "outputs": [],
   "source": [
    "color.append('white')\n",
    "color"
   ]
  },
  {
   "cell_type": "code",
   "execution_count": null,
   "id": "644e6ee6",
   "metadata": {},
   "outputs": [],
   "source": [
    "color.extend(['black', 'purple'])\n",
    "color"
   ]
  },
  {
   "cell_type": "code",
   "execution_count": null,
   "id": "752d5b14",
   "metadata": {},
   "outputs": [],
   "source": [
    "color.remove('white')\n",
    "color"
   ]
  },
  {
   "cell_type": "code",
   "execution_count": null,
   "id": "c9138cda",
   "metadata": {},
   "outputs": [],
   "source": [
    "del color[0]\n",
    "color"
   ]
  },
  {
   "cell_type": "code",
   "execution_count": null,
   "id": "803efc4f",
   "metadata": {},
   "outputs": [],
   "source": [
    "a = [\"color\", 1, 0.2] # 다양한 data type을 list내에 저장할 수 있다.\n",
    "a"
   ]
  },
  {
   "cell_type": "code",
   "execution_count": null,
   "id": "cb043212",
   "metadata": {},
   "outputs": [],
   "source": [
    "a[0] = color\n",
    "a"
   ]
  },
  {
   "cell_type": "code",
   "execution_count": null,
   "id": "c6c9c21e",
   "metadata": {},
   "outputs": [],
   "source": [
    "a = [5, 4, 3, 2, 1]\n",
    "b = [1, 2, 3, 4, 5]\n",
    "print(a)\n",
    "print(b)\n",
    "b = a\n",
    "print(b)\n",
    "print(a)\n",
    "a.sort()\n",
    "print(a)\n",
    "b = a\n",
    "print(b)\n",
    "a[3] = 100\n",
    "print(a)\n",
    "print(b)"
   ]
  },
  {
   "cell_type": "code",
   "execution_count": null,
   "id": "24b63ae2",
   "metadata": {},
   "outputs": [],
   "source": [
    "a = [5, 4, 3, 2, 1]\n",
    "b = [1, 2, 3, 4, 5]\n",
    "b = a[:]\n",
    "print(a)\n",
    "print(b)\n",
    "a[3] = 100\n",
    "print(a)\n",
    "print(b)"
   ]
  },
  {
   "cell_type": "code",
   "execution_count": null,
   "id": "03c54770",
   "metadata": {},
   "outputs": [],
   "source": [
    "# matrix\n",
    "kor_score = [10, 20, 30, 40, 50]\n",
    "math_score = [11, 21, 31, 41, 51]\n",
    "eng_score = [12, 22, 32, 42, 52]\n",
    "midterm_score = [kor_score, math_score, eng_score]\n",
    "print(midterm_score)\n",
    "print(midterm_score[0][2])"
   ]
  },
  {
   "cell_type": "code",
   "execution_count": null,
   "id": "1af02e5f",
   "metadata": {},
   "outputs": [],
   "source": [
    "midterm_copy = midterm_score[:]\n",
    "print(midterm_score)\n",
    "print(midterm_copy)\n",
    "midterm_score[0][2] = 100\n",
    "print(midterm_score)\n",
    "print(midterm_copy)"
   ]
  },
  {
   "cell_type": "code",
   "execution_count": null,
   "id": "c57a8f45",
   "metadata": {},
   "outputs": [],
   "source": [
    "import copy\n",
    "kor_score = [10, 20, 30, 40, 50]\n",
    "math_score = [11, 21, 31, 41, 51]\n",
    "eng_score = [12, 22, 32, 42, 52]\n",
    "midterm_score = [kor_score, math_score, eng_score]\n",
    "midterm_copy = copy.deepcopy(midterm_score)\n",
    "midterm_score[0][2] = 100\n",
    "print(midterm_score)\n",
    "print(midterm_copy)"
   ]
  }
 ],
 "metadata": {
  "kernelspec": {
   "display_name": "Python 3 (ipykernel)",
   "language": "python",
   "name": "python3"
  },
  "language_info": {
   "codemirror_mode": {
    "name": "ipython",
    "version": 3
   },
   "file_extension": ".py",
   "mimetype": "text/x-python",
   "name": "python",
   "nbconvert_exporter": "python",
   "pygments_lexer": "ipython3",
   "version": "3.9.5"
  }
 },
 "nbformat": 4,
 "nbformat_minor": 5
}
