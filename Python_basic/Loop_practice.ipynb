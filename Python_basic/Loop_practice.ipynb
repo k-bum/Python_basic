{
 "cells": [
  {
   "cell_type": "code",
   "execution_count": null,
   "id": "aef29445",
   "metadata": {},
   "outputs": [],
   "source": [
    "print(\"구구단 몇 단을 계산할까요?\")\n",
    "num = input()\n",
    "num = int(num)\n",
    "print(\"구구단 \", num, \"단을 계산합니다.\")\n",
    "for i in range(1,10) :\n",
    "    result =  num * i\n",
    "    print(num, \" * \", i, \" = \", result)"
   ]
  },
  {
   "cell_type": "code",
   "execution_count": null,
   "id": "df2573a5",
   "metadata": {},
   "outputs": [],
   "source": [
    "sentence = \"I love you\"\n",
    "reverse_sentence = \"\"\n",
    "for i in sentence :\n",
    "    # print(i) \n",
    "    reverse_sentence = i + reverse_sentence\n",
    "    print(reverse_sentence)"
   ]
  },
  {
   "cell_type": "code",
   "execution_count": null,
   "id": "5337815c",
   "metadata": {},
   "outputs": [],
   "source": [
    "print(\"Input decimal number : \")\n",
    "decimal = input()\n",
    "decimal = int(decimal)\n",
    "num = decimal\n",
    "result = ''\n",
    "while num > 0 :\n",
    "    remainder = num % 2\n",
    "    num = num // 2\n",
    "    if decimal % 2 == 0 :\n",
    "        result = result + str(1 - remainder)\n",
    "    else :\n",
    "        result = result + str(remainder)\n",
    "print(f\"Binary number is {result}\")"
   ]
  },
  {
   "cell_type": "code",
   "execution_count": null,
   "id": "f527134b",
   "metadata": {},
   "outputs": [],
   "source": [
    "print(\"숫자를 맞춰보세요(1 ~ 100)\")\n",
    "num = 39\n",
    "input_num = int(input())\n",
    "while num != input_num :\n",
    "    if num > input_num :\n",
    "        print(\"숫자가 너무 작습니다.\")\n",
    "        input_num = int(input())\n",
    "    elif num < input_num :\n",
    "        print(\"숫자가 너무 큽니다.\")\n",
    "        input_num = int(input())\n",
    "print(f\"정답입니다! 입력한 숫자는 {input_num}입니다.\")"
   ]
  },
  {
   "cell_type": "code",
   "execution_count": null,
   "id": "36a81254",
   "metadata": {},
   "outputs": [],
   "source": [
    "while True: \n",
    "    print(\"구구단 몇 단을 계산할까요?\")\n",
    "    print(\"종료하려면 0을 입력하세요.\")\n",
    "    num = input()\n",
    "    num = int(num)\n",
    "    if num > 9 :\n",
    "        print(\"숫자를 잘못입력했습니다.\")\n",
    "    elif num == 0 :\n",
    "        print(\"구구단 게임을 종료합니다.\")\n",
    "        break\n",
    "    else : \n",
    "        print(\"구구단 \", num, \"단을 계산합니다.\")\n",
    "        for i in range(1,10) :\n",
    "            result =  num * i\n",
    "            print(num, \" * \", i, \" = \", result)\n"
   ]
  }
 ],
 "metadata": {
  "kernelspec": {
   "display_name": "Python 3 (ipykernel)",
   "language": "python",
   "name": "python3"
  },
  "language_info": {
   "codemirror_mode": {
    "name": "ipython",
    "version": 3
   },
   "file_extension": ".py",
   "mimetype": "text/x-python",
   "name": "python",
   "nbconvert_exporter": "python",
   "pygments_lexer": "ipython3",
   "version": "3.6.4"
  }
 },
 "nbformat": 4,
 "nbformat_minor": 5
}
