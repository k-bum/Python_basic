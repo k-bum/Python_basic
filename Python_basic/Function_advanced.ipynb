{
 "cells": [
  {
   "cell_type": "code",
   "execution_count": null,
   "id": "1409d83f",
   "metadata": {},
   "outputs": [],
   "source": [
    "# call by object reference\n",
    "def spam(eggs) :\n",
    "    eggs.append(1) # 기존 객체의 주소값에 [1]추가\n",
    "    eggs = [2, 3] # 새로운 객체 [2, 3] 생성\n",
    "    print(eggs) \n",
    "\n",
    "ham = [0]\n",
    "spam(ham)\n",
    "print(ham)"
   ]
  },
  {
   "cell_type": "code",
   "execution_count": null,
   "id": "2c13308d",
   "metadata": {},
   "outputs": [],
   "source": [
    "def swap_value (x, y) :\n",
    "    temp = x \n",
    "    x = y\n",
    "    y = temp\n",
    "    \n",
    "\n",
    "def swap_offset (offset_x, offset_y) :\n",
    "    temp = ex[offset_x]\n",
    "    ex[offset_x] = ex[offset_y]\n",
    "    ex[offset_y] = temp\n",
    "\n",
    "    \n",
    "def swap_reference (list_ex, offset_x, offset_y) :\n",
    "    temp = list_ex[offset_x]\n",
    "    list_ex[offset_x] = list_ex[offset_y]\n",
    "    list_ex[offset_y] = temp\n",
    "\n",
    "ex = [1, 2, 3, 4, 5]\n",
    "swap_value(ex[0], ex[1])\n",
    "print(ex)\n",
    "swap_offset(0, 1)\n",
    "print(ex)\n",
    "ex = [1, 2, 3, 4, 5]\n",
    "swap_reference(ex, 3, 4)\n",
    "print(ex)"
   ]
  },
  {
   "cell_type": "code",
   "execution_count": null,
   "id": "72d6c4dd",
   "metadata": {},
   "outputs": [],
   "source": [
    "def test(t) :\n",
    "    print(x)\n",
    "    t = 20 # Local variable\n",
    "    print(\"In function : \", t)\n",
    "\n",
    "x = 10 # Global variable\n",
    "test(x)\n",
    "# print(t)"
   ]
  },
  {
   "cell_type": "code",
   "execution_count": null,
   "id": "768abe85",
   "metadata": {},
   "outputs": [],
   "source": [
    "def test(t) :\n",
    "    t = 20\n",
    "    print(\"In function : x = \", t)\n",
    "\n",
    "x = 10\n",
    "print(\"Before : \", x)\n",
    "test(x)\n",
    "print(\"After : \", x)"
   ]
  },
  {
   "cell_type": "code",
   "execution_count": null,
   "id": "8dbe303c",
   "metadata": {},
   "outputs": [],
   "source": [
    "def f() :\n",
    "    s = 'I love London!'\n",
    "    print(s)\n",
    "\n",
    "s = 'I love Paris!'\n",
    "f()\n",
    "print(s)"
   ]
  },
  {
   "cell_type": "code",
   "execution_count": null,
   "id": "2433bfc2",
   "metadata": {},
   "outputs": [],
   "source": [
    "def f() :\n",
    "    global s \n",
    "    s = \"I love London!\"\n",
    "    print(s)\n",
    "\n",
    "s = \"I love Paris!\"\n",
    "f()\n",
    "print(s)"
   ]
  },
  {
   "cell_type": "code",
   "execution_count": null,
   "id": "8b2a3770",
   "metadata": {},
   "outputs": [],
   "source": [
    "def calculate(x, y) :\n",
    "    total = x + y\n",
    "    print(\"In function\")\n",
    "    print(\"a : \", str(a), \" b : \", str(b), \" a + b : \", str(a + b), \" total : \", str(total))\n",
    "    return total\n",
    "\n",
    "a = 5\n",
    "b = 7\n",
    "total = 0\n",
    "print(\"In program - 1\")\n",
    "print(\"a : \", str(a), \" b : \", str(b), \" a + b : \", str(a + b))\n",
    "\n",
    "sum = calculate(a, b)\n",
    "print(\"After calculation\")\n",
    "print(\"total : \", str(total), \" sum : \", str(sum))"
   ]
  }
 ],
 "metadata": {
  "kernelspec": {
   "display_name": "Python 3 (ipykernel)",
   "language": "python",
   "name": "python3"
  },
  "language_info": {
   "codemirror_mode": {
    "name": "ipython",
    "version": 3
   },
   "file_extension": ".py",
   "mimetype": "text/x-python",
   "name": "python",
   "nbconvert_exporter": "python",
   "pygments_lexer": "ipython3",
   "version": "3.9.5"
  }
 },
 "nbformat": 4,
 "nbformat_minor": 5
}
