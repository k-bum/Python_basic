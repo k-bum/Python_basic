{
 "cells": [
  {
   "cell_type": "code",
   "execution_count": null,
   "id": "38d2c9a7",
   "metadata": {},
   "outputs": [],
   "source": [
    "items = 'zero one two three '.split()\n",
    "print(items)\n",
    "example = 'python, java, javascript'\n",
    "example.split(\",\")\n",
    "example = \"teamlab. technology. io\"\n",
    "subdomain, domain, tld = example.split(\".\")\n",
    "print(subdomain, domain, tld)"
   ]
  },
  {
   "cell_type": "code",
   "execution_count": null,
   "id": "1dedfbe9",
   "metadata": {},
   "outputs": [],
   "source": [
    "colors = ['red', 'green', 'blue', 'yellow']\n",
    "\"-\".join(colors)"
   ]
  },
  {
   "cell_type": "code",
   "execution_count": null,
   "id": "ccf3a5ae",
   "metadata": {},
   "outputs": [],
   "source": [
    "colors = ['red', 'green', 'blue', 'yellow']\n",
    "\", \".join(colors)"
   ]
  },
  {
   "cell_type": "code",
   "execution_count": null,
   "id": "be755882",
   "metadata": {},
   "outputs": [],
   "source": [
    "result = [i for i in range(10)]\n",
    "print(result)\n",
    "result = [i for i in range(10) if i % 2 == 0]\n",
    "print(result)"
   ]
  },
  {
   "cell_type": "code",
   "execution_count": null,
   "id": "3e7e53bf",
   "metadata": {},
   "outputs": [],
   "source": [
    "word_1 = \"Hello\"\n",
    "word_2 = \"World\"\n",
    "result = [i + j for i in word_1 for j in word_2]\n",
    "print(result)"
   ]
  },
  {
   "cell_type": "code",
   "execution_count": null,
   "id": "cd292401",
   "metadata": {},
   "outputs": [],
   "source": [
    "import pprint"
   ]
  },
  {
   "cell_type": "code",
   "execution_count": null,
   "id": "c76c3a26",
   "metadata": {},
   "outputs": [],
   "source": [
    "case_1 = ['A', 'B', 'C']\n",
    "case_2 = ['D', 'E', 'A']\n",
    "result = [i + j for i in case_1 for j in case_2 if not (i == j)]\n",
    "print(result)\n",
    "result.sort()\n",
    "print(result)\n",
    "pprint.pprint(result)"
   ]
  },
  {
   "cell_type": "code",
   "execution_count": null,
   "id": "92702940",
   "metadata": {},
   "outputs": [],
   "source": [
    "words = \"The quick brown fox jumps over the lazy dog\".split()\n",
    "print(words)\n",
    "stuff = [[w.upper(), w.lower(), len(w)] for w in words]\n",
    "print(stuff)\n",
    "pprint.pprint([[w.upper(), w.lower(), len(w)] for w in words])"
   ]
  },
  {
   "cell_type": "code",
   "execution_count": null,
   "id": "3dfe154a",
   "metadata": {},
   "outputs": [],
   "source": [
    "case_1 = ['a', 'b', 'c']\n",
    "case_2 = ['d', 'e', 'f']\n",
    "result = [i + j for i in case_1 for j in case_2]\n",
    "print(result)\n",
    "result = [[i + j for i in case_1] for j in case_2]\n",
    "print(result)"
   ]
  },
  {
   "cell_type": "code",
   "execution_count": null,
   "id": "ee4f91ac",
   "metadata": {},
   "outputs": [],
   "source": [
    "for i, v in enumerate(['tic', 'tac', 'tok']) :\n",
    "    print(i, v)\n",
    "my_list = \"ABCD\"\n",
    "{i : v for i, v in enumerate(my_list)}"
   ]
  },
  {
   "cell_type": "code",
   "execution_count": null,
   "id": "47fafd30",
   "metadata": {},
   "outputs": [],
   "source": [
    "alist = ['a1', 'a2', 'a3']\n",
    "blist = ['b1', 'b2', 'b3']\n",
    "[[a, b] for a, b in zip(alist, blist)]"
   ]
  },
  {
   "cell_type": "code",
   "execution_count": null,
   "id": "771f203c",
   "metadata": {},
   "outputs": [],
   "source": [
    "math = (100, 90, 80)\n",
    "kor = (90, 90, 70)\n",
    "eng = (90, 80, 70)\n",
    "[sum(value) / 3 for value in zip(math, kor, eng)]"
   ]
  },
  {
   "cell_type": "code",
   "execution_count": null,
   "id": "4efc5ae9",
   "metadata": {},
   "outputs": [],
   "source": [
    "alist = ['a1', 'a2', 'a3']\n",
    "blist = ['b1', 'b2', 'b3']\n",
    "for i, values in enumerate(zip(alist, blist)) :\n",
    "    print(i, values)\n",
    "list(enumerate(list(zip(alist, blist))))"
   ]
  },
  {
   "cell_type": "code",
   "execution_count": null,
   "id": "84c1f5d0",
   "metadata": {},
   "outputs": [],
   "source": [
    "def f(x, y) :\n",
    "    return x + y\n",
    "print(f(1, 4))"
   ]
  },
  {
   "cell_type": "code",
   "execution_count": null,
   "id": "44346eb1",
   "metadata": {},
   "outputs": [],
   "source": [
    "f = (lambda x ,y : x + y)\n",
    "f(1, 4)\n",
    "(lambda x ,y : x + y)(10, 50)"
   ]
  },
  {
   "cell_type": "code",
   "execution_count": null,
   "id": "f7d6a1fe",
   "metadata": {},
   "outputs": [],
   "source": [
    "up_low = lambda x : x.upper() + x.lower()\n",
    "up_low('a')\n",
    "up_low = lambda x : \"-\".join(x.split())\n",
    "up_low(\"My Happy Birthday\")"
   ]
  },
  {
   "cell_type": "code",
   "execution_count": null,
   "id": "89251429",
   "metadata": {},
   "outputs": [],
   "source": [
    "ex = [1, 2, 3, 4, 5]\n",
    "f = lambda x : x ** 2 if x % 2 == 0 else x\n",
    "list(map(f, ex))"
   ]
  },
  {
   "cell_type": "code",
   "execution_count": null,
   "id": "38c1fa60",
   "metadata": {},
   "outputs": [],
   "source": [
    "from functools import reduce\n",
    "reduce(lambda x, y : x + y, [1, 2, 3, 4, 5])"
   ]
  },
  {
   "cell_type": "code",
   "execution_count": 43,
   "id": "5be70c68",
   "metadata": {},
   "outputs": [
    {
     "name": "stdout",
     "output_type": "stream",
     "text": [
      "Hello b, My name is a.\n",
      "Hello a, My name is b.\n"
     ]
    }
   ],
   "source": [
    "def print_s(my_name, your_name) :\n",
    "    print(\"Hello {0}, My name is {1}.\" .format(your_name, my_name))\n",
    "print_s(\"a\", \"b\")\n",
    "print_s(your_name = 'a', my_name = 'b')"
   ]
  },
  {
   "cell_type": "code",
   "execution_count": 45,
   "id": "75cb0dd3",
   "metadata": {},
   "outputs": [
    {
     "name": "stdout",
     "output_type": "stream",
     "text": [
      "Hello b, My name is a.\n",
      "Hello c, My name is a.\n"
     ]
    }
   ],
   "source": [
    "def print_s(my_name, your_name = 'b') :\n",
    "    print(\"Hello {0}, My name is {1}.\" .format(your_name, my_name))\n",
    "print_s('a')\n",
    "print_s('a', 'c')"
   ]
  },
  {
   "cell_type": "code",
   "execution_count": 47,
   "id": "88e5a0b5",
   "metadata": {},
   "outputs": [
    {
     "name": "stdout",
     "output_type": "stream",
     "text": [
      "[3, 4, 5]\n",
      "<class 'tuple'>\n"
     ]
    },
    {
     "data": {
      "text/plain": [
       "15"
      ]
     },
     "execution_count": 47,
     "metadata": {},
     "output_type": "execute_result"
    }
   ],
   "source": [
    "def asterisk_test(a, b, *args) :\n",
    "    print(list(args))\n",
    "    print(type(args))\n",
    "    return a + b + sum(args)\n",
    "asterisk_test(1, 2, 3, 4, 5) "
   ]
  },
  {
   "cell_type": "code",
   "execution_count": 49,
   "id": "a474d24d",
   "metadata": {},
   "outputs": [
    {
     "data": {
      "text/plain": [
       "(1, 2, 3)"
      ]
     },
     "execution_count": 49,
     "metadata": {},
     "output_type": "execute_result"
    }
   ],
   "source": [
    "def asterisk_test(*args) :\n",
    "    x, y, z = args\n",
    "    return x, y, z\n",
    "asterisk_test(1, 2, 3)"
   ]
  },
  {
   "cell_type": "code",
   "execution_count": 56,
   "id": "01184560",
   "metadata": {},
   "outputs": [
    {
     "name": "stdout",
     "output_type": "stream",
     "text": [
      "{'first': 3, 'second': 4, 'third': 5}\n",
      "<class 'dict'>\n",
      "15\n",
      "{'first': 6, 'second': 7, 'third': 8}\n"
     ]
    }
   ],
   "source": [
    "def kwargs_test(**kwargs) : \n",
    "    print(kwargs)\n",
    "    print(type(kwargs))\n",
    "kwargs_test(first = 3, second = 4, third = 5)\n",
    "\n",
    "def kwargs_test2(one, two = 2, *args, **kwargs) :\n",
    "    print(one + two + sum(args))\n",
    "    print(kwargs)\n",
    "kwargs_test2(1, 2, 3, 4, 5, first = 6, second = 7, third = 8)"
   ]
  },
  {
   "cell_type": "code",
   "execution_count": 57,
   "id": "946c44cb",
   "metadata": {},
   "outputs": [
    {
     "name": "stdout",
     "output_type": "stream",
     "text": [
      "1 2 3 4 5 6\n",
      "1 (2, 3, 4, 5, 6)\n",
      "<class 'tuple'>\n"
     ]
    }
   ],
   "source": [
    "def asterisk_test(a, *args) :\n",
    "    print(a, *args)\n",
    "    print(a, args)\n",
    "    print(type(args))\n",
    "test = (2, 3, 4, 5, 6)\n",
    "asterisk_test(1, *test)"
   ]
  },
  {
   "cell_type": "code",
   "execution_count": 60,
   "id": "541f9cea",
   "metadata": {},
   "outputs": [
    {
     "name": "stdout",
     "output_type": "stream",
     "text": [
      "1 2 3 4 5\n",
      "[1, 2, 3, 4, 5]\n",
      "[1, 2] [3, 4] [5, 6]\n",
      "[1, 2] [3, 4] [5, 6]\n"
     ]
    }
   ],
   "source": [
    "print(*[1, 2, 3, 4, 5])\n",
    "print([1, 2, 3, 4, 5])\n",
    "a, b, c = ([1, 2], [3, 4], [5, 6])\n",
    "print(a, b, c)\n",
    "data = ([1, 2], [3, 4], [5, 6])\n",
    "print(*data)"
   ]
  },
  {
   "cell_type": "code",
   "execution_count": null,
   "id": "43604a29",
   "metadata": {},
   "outputs": [],
   "source": [
    "ex = ([1, 2], [3, 4], [5, 6])\n",
    "for i in zip(ex) :\n",
    "    print(i)\n",
    "for i in zip(*ex) :\n",
    "    print(i)"
   ]
  }
 ],
 "metadata": {
  "kernelspec": {
   "display_name": "Python 3 (ipykernel)",
   "language": "python",
   "name": "python3"
  },
  "language_info": {
   "codemirror_mode": {
    "name": "ipython",
    "version": 3
   },
   "file_extension": ".py",
   "mimetype": "text/x-python",
   "name": "python",
   "nbconvert_exporter": "python",
   "pygments_lexer": "ipython3",
   "version": "3.9.5"
  }
 },
 "nbformat": 4,
 "nbformat_minor": 5
}
