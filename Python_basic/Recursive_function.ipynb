{
 "cells": [
  {
   "cell_type": "markdown",
   "id": "ecc23baa",
   "metadata": {},
   "source": [
    "# Recursive Function 재귀함수\n",
    "    - 자기 자신을 호출하는 함수\n",
    "    - 점화식과 같은 재귀적 수학 모형을 표현할 때 사용\n",
    "    - 재귀 종료 조건 존재, 종료 조건까지 함수 호출 반복"
   ]
  },
  {
   "cell_type": "code",
   "execution_count": 3,
   "id": "056da98c",
   "metadata": {},
   "outputs": [
    {
     "name": "stdout",
     "output_type": "stream",
     "text": [
      "Input number for factorial calculation : 4\n",
      "24\n"
     ]
    }
   ],
   "source": [
    "def factorial(n) :\n",
    "    if n == 1 :\n",
    "        return 1\n",
    "    else : \n",
    "        return n * factorial(n - 1)\n",
    "print(factorial(int(input(\"Input number for factorial calculation : \"))))"
   ]
  },
  {
   "cell_type": "code",
   "execution_count": 7,
   "id": "f8f4501e",
   "metadata": {},
   "outputs": [
    {
     "name": "stdout",
     "output_type": "stream",
     "text": [
      "Input number for factorial calculation : 4\n",
      "24\n"
     ]
    }
   ],
   "source": [
    "def factorial(n) :\n",
    "    result = 1\n",
    "    for i in range(1, n + 1) :\n",
    "        result = result * i\n",
    "    print(result)\n",
    "\n",
    "num = int(input(\"Input number for factorial calculation : \"))\n",
    "factorial(num)"
   ]
  },
  {
   "cell_type": "code",
   "execution_count": null,
   "id": "518408e0",
   "metadata": {},
   "outputs": [],
   "source": []
  }
 ],
 "metadata": {
  "kernelspec": {
   "display_name": "Python 3 (ipykernel)",
   "language": "python",
   "name": "python3"
  },
  "language_info": {
   "codemirror_mode": {
    "name": "ipython",
    "version": 3
   },
   "file_extension": ".py",
   "mimetype": "text/x-python",
   "name": "python",
   "nbconvert_exporter": "python",
   "pygments_lexer": "ipython3",
   "version": "3.9.5"
  }
 },
 "nbformat": 4,
 "nbformat_minor": 5
}
