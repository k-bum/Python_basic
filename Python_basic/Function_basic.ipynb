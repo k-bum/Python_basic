{
 "cells": [
  {
   "cell_type": "code",
   "execution_count": null,
   "id": "783b3351",
   "metadata": {},
   "outputs": [],
   "source": [
    "def calculate_rectangle_area(x, y) :\n",
    "    result = x * y\n",
    "    return result\n",
    "\n",
    "rectangle_x = 10\n",
    "rectangle_y = 20\n",
    "print(\"사각형의 가로길이 : \", rectangle_x)\n",
    "print(\"사각형의 세로길이 : \", rectangle_y)\n",
    "\n",
    "print(\"사각형의 넓이 : \", calculate_rectangle_area(rectangle_x, rectangle_y))"
   ]
  },
  {
   "cell_type": "code",
   "execution_count": null,
   "id": "da2306b2",
   "metadata": {},
   "outputs": [],
   "source": [
    "def f(x) :\n",
    "    y = 2 * x + 7\n",
    "    return y\n",
    "\n",
    "\n",
    "def g(x) :\n",
    "    y  = x ** 2\n",
    "    return y\n",
    "x = 2\n",
    "print(f(x), g(x), f(g(x)), g(f(x)))\n",
    "print(f(x), '+', g(x), '+', f(g(x)), '+', g(f(x)), '=', f(x) + g(x) + f(g(x)) + g(f(x)))"
   ]
  },
  {
   "cell_type": "code",
   "execution_count": null,
   "id": "aaec18ae",
   "metadata": {},
   "outputs": [],
   "source": [
    "def a_calculate_rectangle_area() :\n",
    "    print(5 * 7)\n",
    "\n",
    "    \n",
    "def b_calculate_rectangle_area(x, y) :\n",
    "    print(x * y)\n",
    "    \n",
    "\n",
    "def c_calculate_rectangle_area() :\n",
    "    return 5 * 7\n",
    "\n",
    "\n",
    "def d_calculate_rectangle_area(x, y) :\n",
    "    return x * y\n",
    "\n",
    "k = a_calculate_rectangle_area()\n",
    "print(k)\n",
    "k = b_calculate_rectangle_area(5, 7)\n",
    "print(k)\n",
    "k = c_calculate_rectangle_area()\n",
    "print(k)\n",
    "k = d_calculate_rectangle_area(5, 7)\n",
    "print(k)"
   ]
  },
  {
   "cell_type": "code",
   "execution_count": null,
   "id": "451b1ee4",
   "metadata": {},
   "outputs": [],
   "source": [
    "print(\"Enter your name\")\n",
    "somebody = input()\n",
    "print(\"Hi\", somebody)\n",
    "\n",
    "temp = float(input(\"온도를 입력하세요 : \"))\n",
    "print(\"온도는 \", temp, \"입니다.\")"
   ]
  },
  {
   "cell_type": "code",
   "execution_count": null,
   "id": "a0328e99",
   "metadata": {},
   "outputs": [],
   "source": [
    "print('%s %s' % ('one', 'two'))\n",
    "print('{} {}' .format('one', 'two'))\n",
    "print('%d %d' % (1, 2))\n",
    "print('{} {}' .format(1, 2))"
   ]
  },
  {
   "cell_type": "code",
   "execution_count": null,
   "id": "21af1ce4",
   "metadata": {},
   "outputs": [],
   "source": [
    "print(\"I eat %d apples.\" % 3)\n",
    "print(\"I eat %s apples.\" % 'five')\n",
    "\n",
    "number = 3; day = \"three\"\n",
    "\n",
    "print(\"I ate %d apples. I was sick for %s days.\" % (number, day))\n",
    "print(\"Product : %s, Price per unit : %f\" % (\"apple\", 5.243))\n",
    "print(\"Product : %10s, Price per unit : %10.3f\" % (\"apple\", 5.243))\n",
    "print(\"Product : {0}, Price per unit : {1:.3f}\" .format(\"apple\", 5.243))\n",
    "print(\"Product : {0:<10s}, Price per unit : {1:.3f}\" .format(\"apple\", 5.243))\n",
    "print(\"Product : {0:>10s}, Price per unit : {1:.3f}\" .format(\"apple\", 5.243))"
   ]
  },
  {
   "cell_type": "code",
   "execution_count": null,
   "id": "ef2dc8fc",
   "metadata": {},
   "outputs": [],
   "source": [
    "name = \"kyebum\"\n",
    "age = 25\n",
    "print(f\"Hello, {name}. You are {age}.\")\n",
    "print(f'{name:20}')\n",
    "print(f'{name:>20}')\n",
    "print(f'{name:*>20}')\n",
    "print(f'{name:*<20}')\n",
    "print(f'{name:*^20}')\n",
    "number = 3.141592653589793\n",
    "print(f'{number:.2f}')"
   ]
  }
 ],
 "metadata": {
  "kernelspec": {
   "display_name": "Python 3 (ipykernel)",
   "language": "python",
   "name": "python3"
  },
  "language_info": {
   "codemirror_mode": {
    "name": "ipython",
    "version": 3
   },
   "file_extension": ".py",
   "mimetype": "text/x-python",
   "name": "python",
   "nbconvert_exporter": "python",
   "pygments_lexer": "ipython3",
   "version": "3.9.5"
  }
 },
 "nbformat": 4,
 "nbformat_minor": 5
}
