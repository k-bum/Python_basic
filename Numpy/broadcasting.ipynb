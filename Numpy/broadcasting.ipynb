{
 "cells": [
  {
   "cell_type": "markdown",
   "id": "a67c9fb5",
   "metadata": {},
   "source": [
    "Broadcasting\n",
    "- shape가 다른 배열 간의 연산을 지원하는 기능"
   ]
  },
  {
   "cell_type": "code",
   "execution_count": null,
   "id": "02816157",
   "metadata": {},
   "outputs": [],
   "source": [
    "import numpy as np"
   ]
  },
  {
   "cell_type": "code",
   "execution_count": null,
   "id": "9ac85aa4",
   "metadata": {},
   "outputs": [],
   "source": [
    "test_matrix = np.array([[1, 2, 3], [4, 5, 6]])\n",
    "scalar = 3\n",
    "print(test_matrix + scalar) # 행렬의 모든 원소에 3을 더해준다\n",
    "print(test_matrix - scalar)\n",
    "print(test_matrix * scalar)\n",
    "print(test_matrix ** scalar)\n",
    "print(test_matrix // scalar)"
   ]
  }
 ],
 "metadata": {
  "kernelspec": {
   "display_name": "Python 3 (ipykernel)",
   "language": "python",
   "name": "python3"
  },
  "language_info": {
   "codemirror_mode": {
    "name": "ipython",
    "version": 3
   },
   "file_extension": ".py",
   "mimetype": "text/x-python",
   "name": "python",
   "nbconvert_exporter": "python",
   "pygments_lexer": "ipython3",
   "version": "3.9.5"
  }
 },
 "nbformat": 4,
 "nbformat_minor": 5
}
