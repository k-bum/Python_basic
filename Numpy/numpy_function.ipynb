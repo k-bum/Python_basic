{
 "cells": [
  {
   "cell_type": "code",
   "execution_count": null,
   "id": "d47bdde1",
   "metadata": {},
   "outputs": [],
   "source": [
    "import numpy as np"
   ]
  },
  {
   "cell_type": "code",
   "execution_count": null,
   "id": "43b798dc",
   "metadata": {},
   "outputs": [],
   "source": [
    "np.arange(30)"
   ]
  },
  {
   "cell_type": "code",
   "execution_count": null,
   "id": "891aee5e",
   "metadata": {},
   "outputs": [],
   "source": [
    "np.arange(0, 5, 0.5)"
   ]
  },
  {
   "cell_type": "code",
   "execution_count": null,
   "id": "6daef4df",
   "metadata": {},
   "outputs": [],
   "source": [
    "np.arange(30).reshape(5, 6)"
   ]
  },
  {
   "cell_type": "code",
   "execution_count": null,
   "id": "07a63ae3",
   "metadata": {},
   "outputs": [],
   "source": [
    "np.zeros(shape = (10, ), dtype = np.int8)"
   ]
  },
  {
   "cell_type": "code",
   "execution_count": null,
   "id": "32670305",
   "metadata": {},
   "outputs": [],
   "source": [
    "np.zeros((2, 5))"
   ]
  },
  {
   "cell_type": "code",
   "execution_count": null,
   "id": "11996c4e",
   "metadata": {},
   "outputs": [],
   "source": [
    "np.ones((10, ), dtype = np.int8)"
   ]
  },
  {
   "cell_type": "code",
   "execution_count": null,
   "id": "d2f09be4",
   "metadata": {},
   "outputs": [],
   "source": [
    "np.ones((2, 5))"
   ]
  },
  {
   "cell_type": "code",
   "execution_count": null,
   "id": "9da417ba",
   "metadata": {},
   "outputs": [],
   "source": [
    "np.empty(shape = (10, ), dtype = np.int8)"
   ]
  },
  {
   "cell_type": "code",
   "execution_count": null,
   "id": "65662fdb",
   "metadata": {},
   "outputs": [],
   "source": [
    "np.empty((2, 5))"
   ]
  },
  {
   "cell_type": "code",
   "execution_count": null,
   "id": "a31e6214",
   "metadata": {},
   "outputs": [],
   "source": [
    "test_matrix = np.arange(30).reshape((5, 6))\n",
    "np.ones_like(test_matrix)"
   ]
  },
  {
   "cell_type": "code",
   "execution_count": null,
   "id": "c097befa",
   "metadata": {},
   "outputs": [],
   "source": [
    "np.identity(n = 3, dtype = np.int8)"
   ]
  },
  {
   "cell_type": "code",
   "execution_count": null,
   "id": "78bd16e7",
   "metadata": {},
   "outputs": [],
   "source": [
    "np.identity(5)"
   ]
  },
  {
   "cell_type": "code",
   "execution_count": null,
   "id": "ced0d0a3",
   "metadata": {},
   "outputs": [],
   "source": [
    "np.eye(N = 3, M = 5, dtype = np.int8)"
   ]
  },
  {
   "cell_type": "code",
   "execution_count": null,
   "id": "aeca1a1b",
   "metadata": {},
   "outputs": [],
   "source": [
    "np.eye(3)"
   ]
  },
  {
   "cell_type": "code",
   "execution_count": null,
   "id": "905eab64",
   "metadata": {},
   "outputs": [],
   "source": [
    "np.eye(3, 5, k = 2)\n",
    "# k = start index"
   ]
  },
  {
   "cell_type": "code",
   "execution_count": null,
   "id": "d23ab339",
   "metadata": {},
   "outputs": [],
   "source": [
    "test_array = np.arange(1, 13).reshape(3, 4)\n",
    "print(test_array.sum())\n",
    "test_array"
   ]
  },
  {
   "cell_type": "code",
   "execution_count": null,
   "id": "cb72fa98",
   "metadata": {},
   "outputs": [],
   "source": [
    "print(test_array.sum(axis = 0)) #각 열의 합\n",
    "print(test_array.sum(axis = 1)) #각 행의 합"
   ]
  },
  {
   "cell_type": "code",
   "execution_count": null,
   "id": "5fa8e568",
   "metadata": {},
   "outputs": [],
   "source": [
    "a = np.array([1, 2, 3])\n",
    "b = np.array([2, 3, 4])\n",
    "np.vstack((a, b))"
   ]
  },
  {
   "cell_type": "code",
   "execution_count": null,
   "id": "2dcad2be",
   "metadata": {},
   "outputs": [],
   "source": [
    "a = np.array([[1], [2], [3]])\n",
    "b = np.array([[2], [3], [4]])\n",
    "np.hstack((a, b))"
   ]
  },
  {
   "cell_type": "code",
   "execution_count": null,
   "id": "b50ce388",
   "metadata": {},
   "outputs": [],
   "source": [
    "test_array = np.array([[1, 2, 3], [4, 5, 6]])\n",
    "print(test_array + test_array)\n",
    "print(test_array - test_array)\n",
    "print(test_array * test_array)"
   ]
  },
  {
   "cell_type": "code",
   "execution_count": null,
   "id": "86465686",
   "metadata": {},
   "outputs": [],
   "source": [
    "test_a = np.array([[1, 2], [3, 4]])\n",
    "test_b = np.array([[1], [2]])\n",
    "test_a.dot(test_b) # dot product"
   ]
  }
 ],
 "metadata": {
  "kernelspec": {
   "display_name": "Python 3 (ipykernel)",
   "language": "python",
   "name": "python3"
  },
  "language_info": {
   "codemirror_mode": {
    "name": "ipython",
    "version": 3
   },
   "file_extension": ".py",
   "mimetype": "text/x-python",
   "name": "python",
   "nbconvert_exporter": "python",
   "pygments_lexer": "ipython3",
   "version": "3.9.5"
  }
 },
 "nbformat": 4,
 "nbformat_minor": 5
}
