{
 "cells": [
  {
   "cell_type": "markdown",
   "id": "65922568",
   "metadata": {},
   "source": [
    "Reshape\n",
    "- Array의 shape의 크기를 변경함(2차원 행렬을 벡터로 변경)"
   ]
  },
  {
   "cell_type": "code",
   "execution_count": null,
   "id": "61f7b27a",
   "metadata": {},
   "outputs": [],
   "source": [
    "import numpy as np"
   ]
  },
  {
   "cell_type": "code",
   "execution_count": null,
   "id": "4fcf9e5d",
   "metadata": {},
   "outputs": [],
   "source": [
    "test_matrix = [[1, 2, 3, 4], [1, 2, 3, 4]]\n",
    "np.array(test_matrix).shape"
   ]
  },
  {
   "cell_type": "code",
   "execution_count": null,
   "id": "7ac863e7",
   "metadata": {},
   "outputs": [],
   "source": [
    "np.array(test_matrix).reshape(2, 2, 2)"
   ]
  },
  {
   "cell_type": "code",
   "execution_count": null,
   "id": "9d66c4b9",
   "metadata": {},
   "outputs": [],
   "source": [
    "np.array(test_matrix).reshape(8, )"
   ]
  },
  {
   "cell_type": "code",
   "execution_count": null,
   "id": "a5f549a9",
   "metadata": {},
   "outputs": [],
   "source": [
    "np.array(test_matrix).reshape(-1, 2).shape\n",
    "# -1 : matrix의 size를 바탕으로 2열인 행렬의 row의 개수를 선정한다"
   ]
  },
  {
   "cell_type": "markdown",
   "id": "70271cd1",
   "metadata": {},
   "source": [
    "Flatten\n",
    "- 다차원 array를 1차원 array로 변환한다"
   ]
  },
  {
   "cell_type": "code",
   "execution_count": null,
   "id": "41e8f324",
   "metadata": {},
   "outputs": [],
   "source": [
    "test_matrix = [[1,2], [3, 4]]\n",
    "print(test_matrix)\n",
    "np.array(test_matrix).flatten()"
   ]
  }
 ],
 "metadata": {
  "kernelspec": {
   "display_name": "Python 3 (ipykernel)",
   "language": "python",
   "name": "python3"
  },
  "language_info": {
   "codemirror_mode": {
    "name": "ipython",
    "version": 3
   },
   "file_extension": ".py",
   "mimetype": "text/x-python",
   "name": "python",
   "nbconvert_exporter": "python",
   "pygments_lexer": "ipython3",
   "version": "3.9.5"
  }
 },
 "nbformat": 4,
 "nbformat_minor": 5
}
