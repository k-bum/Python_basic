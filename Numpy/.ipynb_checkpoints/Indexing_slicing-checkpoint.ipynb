{
 "cells": [
  {
   "cell_type": "code",
   "execution_count": null,
   "id": "aa6ec45e",
   "metadata": {},
   "outputs": [],
   "source": [
    "import numpy as np"
   ]
  },
  {
   "cell_type": "code",
   "execution_count": null,
   "id": "82af4c07",
   "metadata": {},
   "outputs": [],
   "source": [
    "test_matrix = [[1,2], [3,4]]\n",
    "test_matrix = np.array(test_matrix, int)\n",
    "test_matrix"
   ]
  },
  {
   "cell_type": "code",
   "execution_count": null,
   "id": "19a97a16",
   "metadata": {},
   "outputs": [],
   "source": [
    "print(test_matrix[0][0])\n",
    "print(test_matrix[0,0])"
   ]
  },
  {
   "cell_type": "code",
   "execution_count": null,
   "id": "5549cf59",
   "metadata": {},
   "outputs": [],
   "source": [
    "a = np.array([[1, 2, 3, 4], [4, 5, 6, 7], [7, 8, 9, 10]], int)\n",
    "a"
   ]
  },
  {
   "cell_type": "code",
   "execution_count": null,
   "id": "113b3756",
   "metadata": {},
   "outputs": [],
   "source": [
    "print(a[:, 2:])\n",
    "print(a[1, 1:3])\n",
    "print(a[1 : 3])"
   ]
  }
 ],
 "metadata": {
  "kernelspec": {
   "display_name": "Python 3 (ipykernel)",
   "language": "python",
   "name": "python3"
  },
  "language_info": {
   "codemirror_mode": {
    "name": "ipython",
    "version": 3
   },
   "file_extension": ".py",
   "mimetype": "text/x-python",
   "name": "python",
   "nbconvert_exporter": "python",
   "pygments_lexer": "ipython3",
   "version": "3.9.5"
  }
 },
 "nbformat": 4,
 "nbformat_minor": 5
}
